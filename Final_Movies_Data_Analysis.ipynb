{
 "cells": [
  {
   "cell_type": "markdown",
   "id": "6a6ba1b6",
   "metadata": {
    "id": "6a6ba1b6"
   },
   "source": [
    "# 1. Let's import the libraries and the dataset for this analysis."
   ]
  },
  {
   "cell_type": "code",
   "execution_count": 2,
   "id": "6ac1b8fc",
   "metadata": {
    "id": "6ac1b8fc"
   },
   "outputs": [],
   "source": [
    "# import required libraries\n",
    "import numpy as np\n",
    "import pandas as pd\n",
    "import seaborn as sns\n",
    "import matplotlib.pyplot as plt\n",
    "\n",
    "pd.set_option('display.max_columns', 1000, 'display.width', 1000, 'display.max_rows',1000)"
   ]
  },
  {
   "cell_type": "code",
   "execution_count": 3,
   "id": "f66a9789",
   "metadata": {
    "id": "f66a9789"
   },
   "outputs": [],
   "source": [
    "# read data from CSV file\n",
    "df = pd.read_csv(\"movies.csv\")"
   ]
  },
  {
   "cell_type": "markdown",
   "id": "0065691a",
   "metadata": {
    "id": "0065691a"
   },
   "source": [
    "# 2. Data Exploration"
   ]
  },
  {
   "cell_type": "markdown",
   "id": "c109f122",
   "metadata": {
    "id": "c109f122"
   },
   "source": [
    "### 2.1 Print number of rows and columns in the dataset"
   ]
  },
  {
   "cell_type": "code",
   "execution_count": 4,
   "id": "0ee452d0",
   "metadata": {
    "colab": {
     "base_uri": "https://localhost:8080/"
    },
    "id": "0ee452d0",
    "outputId": "9659b2bf-f522-4b59-e339-f29f9a61212d"
   },
   "outputs": [
    {
     "data": {
      "text/plain": [
       "(7668, 15)"
      ]
     },
     "execution_count": 4,
     "metadata": {},
     "output_type": "execute_result"
    }
   ],
   "source": [
    "df.shape"
   ]
  },
  {
   "cell_type": "markdown",
   "id": "da0ea26e",
   "metadata": {
    "id": "da0ea26e"
   },
   "source": [
    "There are 7,668 rows and 15 columns. Let's print the first few rows of the dataset."
   ]
  },
  {
   "cell_type": "code",
   "execution_count": 5,
   "id": "7fa5a2ef",
   "metadata": {
    "colab": {
     "base_uri": "https://localhost:8080/",
     "height": 337
    },
    "id": "7fa5a2ef",
    "outputId": "d2bf4d87-cb3c-41a7-e88e-862edbef9a73"
   },
   "outputs": [
    {
     "data": {
      "text/html": [
       "\n",
       "  <div id=\"df-b0efdc28-c6c7-4e83-9267-d7543d6acfc8\">\n",
       "    <div class=\"colab-df-container\">\n",
       "      <div>\n",
       "<style scoped>\n",
       "    .dataframe tbody tr th:only-of-type {\n",
       "        vertical-align: middle;\n",
       "    }\n",
       "\n",
       "    .dataframe tbody tr th {\n",
       "        vertical-align: top;\n",
       "    }\n",
       "\n",
       "    .dataframe thead th {\n",
       "        text-align: right;\n",
       "    }\n",
       "</style>\n",
       "<table border=\"1\" class=\"dataframe\">\n",
       "  <thead>\n",
       "    <tr style=\"text-align: right;\">\n",
       "      <th></th>\n",
       "      <th>name</th>\n",
       "      <th>rating</th>\n",
       "      <th>genre</th>\n",
       "      <th>year</th>\n",
       "      <th>released</th>\n",
       "      <th>score</th>\n",
       "      <th>votes</th>\n",
       "      <th>director</th>\n",
       "      <th>writer</th>\n",
       "      <th>star</th>\n",
       "      <th>country</th>\n",
       "      <th>budget</th>\n",
       "      <th>gross</th>\n",
       "      <th>company</th>\n",
       "      <th>runtime</th>\n",
       "    </tr>\n",
       "  </thead>\n",
       "  <tbody>\n",
       "    <tr>\n",
       "      <th>0</th>\n",
       "      <td>The Shining</td>\n",
       "      <td>R</td>\n",
       "      <td>Drama</td>\n",
       "      <td>1980</td>\n",
       "      <td>June 13, 1980 (United States)</td>\n",
       "      <td>8.4</td>\n",
       "      <td>927000.0</td>\n",
       "      <td>Stanley Kubrick</td>\n",
       "      <td>Stephen King</td>\n",
       "      <td>Jack Nicholson</td>\n",
       "      <td>United Kingdom</td>\n",
       "      <td>19000000.0</td>\n",
       "      <td>46998772.0</td>\n",
       "      <td>Warner Bros.</td>\n",
       "      <td>146.0</td>\n",
       "    </tr>\n",
       "    <tr>\n",
       "      <th>1</th>\n",
       "      <td>The Blue Lagoon</td>\n",
       "      <td>R</td>\n",
       "      <td>Adventure</td>\n",
       "      <td>1980</td>\n",
       "      <td>July 2, 1980 (United States)</td>\n",
       "      <td>5.8</td>\n",
       "      <td>65000.0</td>\n",
       "      <td>Randal Kleiser</td>\n",
       "      <td>Henry De Vere Stacpoole</td>\n",
       "      <td>Brooke Shields</td>\n",
       "      <td>United States</td>\n",
       "      <td>4500000.0</td>\n",
       "      <td>58853106.0</td>\n",
       "      <td>Columbia Pictures</td>\n",
       "      <td>104.0</td>\n",
       "    </tr>\n",
       "    <tr>\n",
       "      <th>2</th>\n",
       "      <td>Star Wars: Episode V - The Empire Strikes Back</td>\n",
       "      <td>PG</td>\n",
       "      <td>Action</td>\n",
       "      <td>1980</td>\n",
       "      <td>June 20, 1980 (United States)</td>\n",
       "      <td>8.7</td>\n",
       "      <td>1200000.0</td>\n",
       "      <td>Irvin Kershner</td>\n",
       "      <td>Leigh Brackett</td>\n",
       "      <td>Mark Hamill</td>\n",
       "      <td>United States</td>\n",
       "      <td>18000000.0</td>\n",
       "      <td>538375067.0</td>\n",
       "      <td>Lucasfilm</td>\n",
       "      <td>124.0</td>\n",
       "    </tr>\n",
       "    <tr>\n",
       "      <th>3</th>\n",
       "      <td>Airplane!</td>\n",
       "      <td>PG</td>\n",
       "      <td>Comedy</td>\n",
       "      <td>1980</td>\n",
       "      <td>July 2, 1980 (United States)</td>\n",
       "      <td>7.7</td>\n",
       "      <td>221000.0</td>\n",
       "      <td>Jim Abrahams</td>\n",
       "      <td>Jim Abrahams</td>\n",
       "      <td>Robert Hays</td>\n",
       "      <td>United States</td>\n",
       "      <td>3500000.0</td>\n",
       "      <td>83453539.0</td>\n",
       "      <td>Paramount Pictures</td>\n",
       "      <td>88.0</td>\n",
       "    </tr>\n",
       "    <tr>\n",
       "      <th>4</th>\n",
       "      <td>Caddyshack</td>\n",
       "      <td>R</td>\n",
       "      <td>Comedy</td>\n",
       "      <td>1980</td>\n",
       "      <td>July 25, 1980 (United States)</td>\n",
       "      <td>7.3</td>\n",
       "      <td>108000.0</td>\n",
       "      <td>Harold Ramis</td>\n",
       "      <td>Brian Doyle-Murray</td>\n",
       "      <td>Chevy Chase</td>\n",
       "      <td>United States</td>\n",
       "      <td>6000000.0</td>\n",
       "      <td>39846344.0</td>\n",
       "      <td>Orion Pictures</td>\n",
       "      <td>98.0</td>\n",
       "    </tr>\n",
       "  </tbody>\n",
       "</table>\n",
       "</div>\n",
       "      <button class=\"colab-df-convert\" onclick=\"convertToInteractive('df-b0efdc28-c6c7-4e83-9267-d7543d6acfc8')\"\n",
       "              title=\"Convert this dataframe to an interactive table.\"\n",
       "              style=\"display:none;\">\n",
       "        \n",
       "  <svg xmlns=\"http://www.w3.org/2000/svg\" height=\"24px\"viewBox=\"0 0 24 24\"\n",
       "       width=\"24px\">\n",
       "    <path d=\"M0 0h24v24H0V0z\" fill=\"none\"/>\n",
       "    <path d=\"M18.56 5.44l.94 2.06.94-2.06 2.06-.94-2.06-.94-.94-2.06-.94 2.06-2.06.94zm-11 1L8.5 8.5l.94-2.06 2.06-.94-2.06-.94L8.5 2.5l-.94 2.06-2.06.94zm10 10l.94 2.06.94-2.06 2.06-.94-2.06-.94-.94-2.06-.94 2.06-2.06.94z\"/><path d=\"M17.41 7.96l-1.37-1.37c-.4-.4-.92-.59-1.43-.59-.52 0-1.04.2-1.43.59L10.3 9.45l-7.72 7.72c-.78.78-.78 2.05 0 2.83L4 21.41c.39.39.9.59 1.41.59.51 0 1.02-.2 1.41-.59l7.78-7.78 2.81-2.81c.8-.78.8-2.07 0-2.86zM5.41 20L4 18.59l7.72-7.72 1.47 1.35L5.41 20z\"/>\n",
       "  </svg>\n",
       "      </button>\n",
       "      \n",
       "  <style>\n",
       "    .colab-df-container {\n",
       "      display:flex;\n",
       "      flex-wrap:wrap;\n",
       "      gap: 12px;\n",
       "    }\n",
       "\n",
       "    .colab-df-convert {\n",
       "      background-color: #E8F0FE;\n",
       "      border: none;\n",
       "      border-radius: 50%;\n",
       "      cursor: pointer;\n",
       "      display: none;\n",
       "      fill: #1967D2;\n",
       "      height: 32px;\n",
       "      padding: 0 0 0 0;\n",
       "      width: 32px;\n",
       "    }\n",
       "\n",
       "    .colab-df-convert:hover {\n",
       "      background-color: #E2EBFA;\n",
       "      box-shadow: 0px 1px 2px rgba(60, 64, 67, 0.3), 0px 1px 3px 1px rgba(60, 64, 67, 0.15);\n",
       "      fill: #174EA6;\n",
       "    }\n",
       "\n",
       "    [theme=dark] .colab-df-convert {\n",
       "      background-color: #3B4455;\n",
       "      fill: #D2E3FC;\n",
       "    }\n",
       "\n",
       "    [theme=dark] .colab-df-convert:hover {\n",
       "      background-color: #434B5C;\n",
       "      box-shadow: 0px 1px 3px 1px rgba(0, 0, 0, 0.15);\n",
       "      filter: drop-shadow(0px 1px 2px rgba(0, 0, 0, 0.3));\n",
       "      fill: #FFFFFF;\n",
       "    }\n",
       "  </style>\n",
       "\n",
       "      <script>\n",
       "        const buttonEl =\n",
       "          document.querySelector('#df-b0efdc28-c6c7-4e83-9267-d7543d6acfc8 button.colab-df-convert');\n",
       "        buttonEl.style.display =\n",
       "          google.colab.kernel.accessAllowed ? 'block' : 'none';\n",
       "\n",
       "        async function convertToInteractive(key) {\n",
       "          const element = document.querySelector('#df-b0efdc28-c6c7-4e83-9267-d7543d6acfc8');\n",
       "          const dataTable =\n",
       "            await google.colab.kernel.invokeFunction('convertToInteractive',\n",
       "                                                     [key], {});\n",
       "          if (!dataTable) return;\n",
       "\n",
       "          const docLinkHtml = 'Like what you see? Visit the ' +\n",
       "            '<a target=\"_blank\" href=https://colab.research.google.com/notebooks/data_table.ipynb>data table notebook</a>'\n",
       "            + ' to learn more about interactive tables.';\n",
       "          element.innerHTML = '';\n",
       "          dataTable['output_type'] = 'display_data';\n",
       "          await google.colab.output.renderOutput(dataTable, element);\n",
       "          const docLink = document.createElement('div');\n",
       "          docLink.innerHTML = docLinkHtml;\n",
       "          element.appendChild(docLink);\n",
       "        }\n",
       "      </script>\n",
       "    </div>\n",
       "  </div>\n",
       "  "
      ],
      "text/plain": [
       "                                             name rating      genre  year                       released  score      votes         director                   writer            star         country      budget        gross             company  runtime\n",
       "0                                     The Shining      R      Drama  1980  June 13, 1980 (United States)    8.4   927000.0  Stanley Kubrick             Stephen King  Jack Nicholson  United Kingdom  19000000.0   46998772.0        Warner Bros.    146.0\n",
       "1                                 The Blue Lagoon      R  Adventure  1980   July 2, 1980 (United States)    5.8    65000.0   Randal Kleiser  Henry De Vere Stacpoole  Brooke Shields   United States   4500000.0   58853106.0   Columbia Pictures    104.0\n",
       "2  Star Wars: Episode V - The Empire Strikes Back     PG     Action  1980  June 20, 1980 (United States)    8.7  1200000.0   Irvin Kershner           Leigh Brackett     Mark Hamill   United States  18000000.0  538375067.0           Lucasfilm    124.0\n",
       "3                                       Airplane!     PG     Comedy  1980   July 2, 1980 (United States)    7.7   221000.0     Jim Abrahams             Jim Abrahams     Robert Hays   United States   3500000.0   83453539.0  Paramount Pictures     88.0\n",
       "4                                      Caddyshack      R     Comedy  1980  July 25, 1980 (United States)    7.3   108000.0     Harold Ramis       Brian Doyle-Murray     Chevy Chase   United States   6000000.0   39846344.0      Orion Pictures     98.0"
      ]
     },
     "execution_count": 5,
     "metadata": {},
     "output_type": "execute_result"
    }
   ],
   "source": [
    "df.head(5)"
   ]
  },
  {
   "cell_type": "markdown",
   "id": "12be2db4",
   "metadata": {
    "id": "12be2db4"
   },
   "source": [
    "### 2.2 Number of movies in the dataset"
   ]
  },
  {
   "cell_type": "code",
   "execution_count": 6,
   "id": "2113c5fd",
   "metadata": {
    "colab": {
     "base_uri": "https://localhost:8080/"
    },
    "id": "2113c5fd",
    "outputId": "2e812b0c-97fd-4b4c-e567-1821a6a490e4"
   },
   "outputs": [
    {
     "data": {
      "text/plain": [
       "7668"
      ]
     },
     "execution_count": 6,
     "metadata": {},
     "output_type": "execute_result"
    }
   ],
   "source": [
    "len(df['name'])"
   ]
  },
  {
   "cell_type": "markdown",
   "id": "dwRT0xlh2Fjl",
   "metadata": {
    "id": "dwRT0xlh2Fjl"
   },
   "source": [
    "There are 7668 movies under analysis. "
   ]
  },
  {
   "cell_type": "markdown",
   "id": "165f27f6",
   "metadata": {
    "id": "165f27f6"
   },
   "source": [
    "### 2.3 Find the minimum and maximum release years"
   ]
  },
  {
   "cell_type": "code",
   "execution_count": 7,
   "id": "0b62c638",
   "metadata": {
    "colab": {
     "base_uri": "https://localhost:8080/"
    },
    "id": "0b62c638",
    "outputId": "a0eb3494-e424-4021-c8d4-a1040a8e76ca"
   },
   "outputs": [
    {
     "data": {
      "text/plain": [
       "(1980, 2020)"
      ]
     },
     "execution_count": 7,
     "metadata": {},
     "output_type": "execute_result"
    }
   ],
   "source": [
    "min(df['year']), max(df['year'])"
   ]
  },
  {
   "cell_type": "markdown",
   "id": "732552b5",
   "metadata": {
    "id": "732552b5"
   },
   "source": [
    "Since we have to analyze the data of the movies released in the last 30 years, we will not consider the data of the movies released before 1990."
   ]
  },
  {
   "cell_type": "code",
   "execution_count": 8,
   "id": "4a7adb0d",
   "metadata": {
    "colab": {
     "base_uri": "https://localhost:8080/"
    },
    "id": "4a7adb0d",
    "outputId": "37b1bc92-6c42-48b6-f1df-9fdc3ffcd601"
   },
   "outputs": [
    {
     "data": {
      "text/plain": [
       "(6025, 15)"
      ]
     },
     "execution_count": 8,
     "metadata": {},
     "output_type": "execute_result"
    }
   ],
   "source": [
    "# filter data using movie release year (>=1990)\n",
    "df = df[df['year'] >= 1990]\n",
    "\n",
    "# check rows count of the dataframe after filtering\n",
    "df.shape"
   ]
  },
  {
   "cell_type": "markdown",
   "id": "628e2b6c",
   "metadata": {
    "id": "628e2b6c"
   },
   "source": [
    "### 2.4 Check the missing data in each column"
   ]
  },
  {
   "cell_type": "code",
   "execution_count": 9,
   "id": "284d54f2",
   "metadata": {
    "colab": {
     "base_uri": "https://localhost:8080/"
    },
    "id": "284d54f2",
    "outputId": "cfee17bd-8b35-4bcc-e4ef-b4117746eefb"
   },
   "outputs": [
    {
     "data": {
      "text/plain": [
       "name           0\n",
       "rating        61\n",
       "genre          0\n",
       "year           0\n",
       "released       2\n",
       "score          3\n",
       "votes          3\n",
       "director       0\n",
       "writer         3\n",
       "star           0\n",
       "country        3\n",
       "budget      1456\n",
       "gross         67\n",
       "company        8\n",
       "runtime        4\n",
       "dtype: int64"
      ]
     },
     "execution_count": 9,
     "metadata": {},
     "output_type": "execute_result"
    }
   ],
   "source": [
    "df.isnull().sum()"
   ]
  },
  {
   "cell_type": "markdown",
   "id": "ee98f0bf",
   "metadata": {
    "id": "ee98f0bf"
   },
   "source": [
    "We can see that there are a few columns with missing data. The column 'budget' contains the most number of missing data. We will drop the rows with the missing data."
   ]
  },
  {
   "cell_type": "code",
   "execution_count": 10,
   "id": "eb2561a9",
   "metadata": {
    "id": "eb2561a9"
   },
   "outputs": [],
   "source": [
    "df = df.dropna()"
   ]
  },
  {
   "cell_type": "code",
   "execution_count": 11,
   "id": "9fa849ab",
   "metadata": {
    "colab": {
     "base_uri": "https://localhost:8080/"
    },
    "id": "9fa849ab",
    "outputId": "e2810bcd-b7a0-4564-d9b4-38eecc1e394b"
   },
   "outputs": [
    {
     "data": {
      "text/plain": [
       "(4533, 15)"
      ]
     },
     "execution_count": 11,
     "metadata": {},
     "output_type": "execute_result"
    }
   ],
   "source": [
    "# check rows count after dropping the rows with missing data.\n",
    "df.shape"
   ]
  },
  {
   "cell_type": "markdown",
   "id": "ba5e460d",
   "metadata": {
    "id": "ba5e460d"
   },
   "source": [
    "### 2.5 Number of movies released year-wise"
   ]
  },
  {
   "cell_type": "code",
   "execution_count": 12,
   "id": "5d25ee74",
   "metadata": {
    "colab": {
     "base_uri": "https://localhost:8080/"
    },
    "id": "5d25ee74",
    "outputId": "c906a386-e004-4186-81a4-423e2209b3cf"
   },
   "outputs": [
    {
     "data": {
      "text/plain": [
       "2002    173\n",
       "2009    171\n",
       "2008    171\n",
       "2005    170\n",
       "2010    164\n",
       "2001    164\n",
       "2006    163\n",
       "2014    163\n",
       "2012    162\n",
       "1999    162\n",
       "2000    162\n",
       "2013    161\n",
       "2011    160\n",
       "2003    159\n",
       "2016    158\n",
       "2004    158\n",
       "2007    157\n",
       "2015    156\n",
       "1997    149\n",
       "1998    148\n",
       "1996    144\n",
       "2018    143\n",
       "1993    140\n",
       "1995    138\n",
       "2017    133\n",
       "1992    131\n",
       "1994    128\n",
       "1991    113\n",
       "2019    113\n",
       "1990    111\n",
       "2020      8\n",
       "Name: year, dtype: int64"
      ]
     },
     "execution_count": 12,
     "metadata": {},
     "output_type": "execute_result"
    }
   ],
   "source": [
    "df['year'].value_counts()"
   ]
  },
  {
   "cell_type": "markdown",
   "id": "30afdc60",
   "metadata": {
    "id": "30afdc60"
   },
   "source": [
    "It turns out that maximum number of movies were released during the decade of 2000-2010."
   ]
  },
  {
   "cell_type": "markdown",
   "id": "f378c989",
   "metadata": {
    "id": "f378c989"
   },
   "source": [
    "### 2.6 Top grossing movies"
   ]
  },
  {
   "cell_type": "markdown",
   "id": "090500de",
   "metadata": {
    "id": "090500de"
   },
   "source": [
    "Distribution of gross collection of all the movies, 1990 onwards"
   ]
  },
  {
   "cell_type": "code",
   "execution_count": 13,
   "id": "3ecc5238",
   "metadata": {
    "colab": {
     "base_uri": "https://localhost:8080/",
     "height": 296
    },
    "id": "3ecc5238",
    "outputId": "8eef6d55-24b5-4e67-9094-015c8e4669d0"
   },
   "outputs": [
    {
     "data": {
      "text/plain": [
       "[]"
      ]
     },
     "execution_count": 13,
     "metadata": {},
     "output_type": "execute_result"
    },
    {
     "data": {
      "image/png": "[encoded data removed]",
      "text/plain": [
       "<Figure size 432x288 with 1 Axes>"
      ]
     },
     "metadata": {
      "needs_background": "light"
     },
     "output_type": "display_data"
    }
   ],
   "source": [
    "df['gross'].hist(bins = 50).plot()"
   ]
  },
  {
   "cell_type": "markdown",
   "id": "57c3824d",
   "metadata": {
    "id": "57c3824d"
   },
   "source": [
    "List of movies with gross collection of one billion dollars and above."
   ]
  },
  {
   "cell_type": "markdown",
   "id": "c76fcb72",
   "metadata": {
    "id": "c76fcb72"
   },
   "source": [
    "### 2.7 Top movies based on return-on-investment"
   ]
  },
  {
   "cell_type": "markdown",
   "id": "5157b326",
   "metadata": {
    "id": "5157b326"
   },
   "source": [
    "Let's create a new variable 'ROI' to store return-on-investment values for each movie in the dataset."
   ]
  },
  {
   "cell_type": "code",
   "execution_count": 14,
   "id": "fc9cccb2",
   "metadata": {
    "id": "fc9cccb2"
   },
   "outputs": [],
   "source": [
    "df['ROI'] = df['gross']/df['budget']"
   ]
  },
  {
   "cell_type": "code",
   "execution_count": 15,
   "id": "92bd0ed4",
   "metadata": {
    "colab": {
     "base_uri": "https://localhost:8080/",
     "height": 363
    },
    "id": "92bd0ed4",
    "outputId": "6d273365-ed2b-45c3-b4dc-08ee84d70757"
   },
   "outputs": [
    {
     "data": {
      "text/html": [
       "\n",
       "  <div id=\"df-869f8b97-54e3-4686-998a-f3bd3c68c56a\">\n",
       "    <div class=\"colab-df-container\">\n",
       "      <div>\n",
       "<style scoped>\n",
       "    .dataframe tbody tr th:only-of-type {\n",
       "        vertical-align: middle;\n",
       "    }\n",
       "\n",
       "    .dataframe tbody tr th {\n",
       "        vertical-align: top;\n",
       "    }\n",
       "\n",
       "    .dataframe thead th {\n",
       "        text-align: right;\n",
       "    }\n",
       "</style>\n",
       "<table border=\"1\" class=\"dataframe\">\n",
       "  <thead>\n",
       "    <tr style=\"text-align: right;\">\n",
       "      <th></th>\n",
       "      <th>name</th>\n",
       "      <th>genre</th>\n",
       "      <th>year</th>\n",
       "      <th>budget</th>\n",
       "      <th>gross</th>\n",
       "      <th>ROI</th>\n",
       "    </tr>\n",
       "  </thead>\n",
       "  <tbody>\n",
       "    <tr>\n",
       "      <th>5114</th>\n",
       "      <td>Paranormal Activity</td>\n",
       "      <td>Horror</td>\n",
       "      <td>2007</td>\n",
       "      <td>15000.0</td>\n",
       "      <td>193355800.0</td>\n",
       "      <td>12890.386667</td>\n",
       "    </tr>\n",
       "    <tr>\n",
       "      <th>3459</th>\n",
       "      <td>The Blair Witch Project</td>\n",
       "      <td>Horror</td>\n",
       "      <td>1999</td>\n",
       "      <td>60000.0</td>\n",
       "      <td>248639099.0</td>\n",
       "      <td>4143.984983</td>\n",
       "    </tr>\n",
       "    <tr>\n",
       "      <th>6815</th>\n",
       "      <td>The Gallows</td>\n",
       "      <td>Horror</td>\n",
       "      <td>2015</td>\n",
       "      <td>100000.0</td>\n",
       "      <td>42964410.0</td>\n",
       "      <td>429.644100</td>\n",
       "    </tr>\n",
       "    <tr>\n",
       "      <th>2093</th>\n",
       "      <td>El Mariachi</td>\n",
       "      <td>Action</td>\n",
       "      <td>1992</td>\n",
       "      <td>7000.0</td>\n",
       "      <td>2040920.0</td>\n",
       "      <td>291.560000</td>\n",
       "    </tr>\n",
       "    <tr>\n",
       "      <th>5154</th>\n",
       "      <td>Once</td>\n",
       "      <td>Drama</td>\n",
       "      <td>2007</td>\n",
       "      <td>150000.0</td>\n",
       "      <td>20936722.0</td>\n",
       "      <td>139.578147</td>\n",
       "    </tr>\n",
       "    <tr>\n",
       "      <th>2467</th>\n",
       "      <td>Clerks</td>\n",
       "      <td>Comedy</td>\n",
       "      <td>1994</td>\n",
       "      <td>27000.0</td>\n",
       "      <td>3151130.0</td>\n",
       "      <td>116.708519</td>\n",
       "    </tr>\n",
       "    <tr>\n",
       "      <th>4471</th>\n",
       "      <td>Napoleon Dynamite</td>\n",
       "      <td>Comedy</td>\n",
       "      <td>2004</td>\n",
       "      <td>400000.0</td>\n",
       "      <td>46138887.0</td>\n",
       "      <td>115.347217</td>\n",
       "    </tr>\n",
       "    <tr>\n",
       "      <th>3233</th>\n",
       "      <td>In the Company of Men</td>\n",
       "      <td>Comedy</td>\n",
       "      <td>1997</td>\n",
       "      <td>25000.0</td>\n",
       "      <td>2804473.0</td>\n",
       "      <td>112.178920</td>\n",
       "    </tr>\n",
       "    <tr>\n",
       "      <th>4814</th>\n",
       "      <td>Keeping Mum</td>\n",
       "      <td>Comedy</td>\n",
       "      <td>2005</td>\n",
       "      <td>169000.0</td>\n",
       "      <td>18586834.0</td>\n",
       "      <td>109.981266</td>\n",
       "    </tr>\n",
       "    <tr>\n",
       "      <th>4304</th>\n",
       "      <td>Open Water</td>\n",
       "      <td>Adventure</td>\n",
       "      <td>2003</td>\n",
       "      <td>500000.0</td>\n",
       "      <td>54683487.0</td>\n",
       "      <td>109.366974</td>\n",
       "    </tr>\n",
       "  </tbody>\n",
       "</table>\n",
       "</div>\n",
       "      <button class=\"colab-df-convert\" onclick=\"convertToInteractive('df-869f8b97-54e3-4686-998a-f3bd3c68c56a')\"\n",
       "              title=\"Convert this dataframe to an interactive table.\"\n",
       "              style=\"display:none;\">\n",
       "        \n",
       "  <svg xmlns=\"http://www.w3.org/2000/svg\" height=\"24px\"viewBox=\"0 0 24 24\"\n",
       "       width=\"24px\">\n",
       "    <path d=\"M0 0h24v24H0V0z\" fill=\"none\"/>\n",
       "    <path d=\"M18.56 5.44l.94 2.06.94-2.06 2.06-.94-2.06-.94-.94-2.06-.94 2.06-2.06.94zm-11 1L8.5 8.5l.94-2.06 2.06-.94-2.06-.94L8.5 2.5l-.94 2.06-2.06.94zm10 10l.94 2.06.94-2.06 2.06-.94-2.06-.94-.94-2.06-.94 2.06-2.06.94z\"/><path d=\"M17.41 7.96l-1.37-1.37c-.4-.4-.92-.59-1.43-.59-.52 0-1.04.2-1.43.59L10.3 9.45l-7.72 7.72c-.78.78-.78 2.05 0 2.83L4 21.41c.39.39.9.59 1.41.59.51 0 1.02-.2 1.41-.59l7.78-7.78 2.81-2.81c.8-.78.8-2.07 0-2.86zM5.41 20L4 18.59l7.72-7.72 1.47 1.35L5.41 20z\"/>\n",
       "  </svg>\n",
       "      </button>\n",
       "      \n",
       "  <style>\n",
       "    .colab-df-container {\n",
       "      display:flex;\n",
       "      flex-wrap:wrap;\n",
       "      gap: 12px;\n",
       "    }\n",
       "\n",
       "    .colab-df-convert {\n",
       "      background-color: #E8F0FE;\n",
       "      border: none;\n",
       "      border-radius: 50%;\n",
       "      cursor: pointer;\n",
       "      display: none;\n",
       "      fill: #1967D2;\n",
       "      height: 32px;\n",
       "      padding: 0 0 0 0;\n",
       "      width: 32px;\n",
       "    }\n",
       "\n",
       "    .colab-df-convert:hover {\n",
       "      background-color: #E2EBFA;\n",
       "      box-shadow: 0px 1px 2px rgba(60, 64, 67, 0.3), 0px 1px 3px 1px rgba(60, 64, 67, 0.15);\n",
       "      fill: #174EA6;\n",
       "    }\n",
       "\n",
       "    [theme=dark] .colab-df-convert {\n",
       "      background-color: #3B4455;\n",
       "      fill: #D2E3FC;\n",
       "    }\n",
       "\n",
       "    [theme=dark] .colab-df-convert:hover {\n",
       "      background-color: #434B5C;\n",
       "      box-shadow: 0px 1px 3px 1px rgba(0, 0, 0, 0.15);\n",
       "      filter: drop-shadow(0px 1px 2px rgba(0, 0, 0, 0.3));\n",
       "      fill: #FFFFFF;\n",
       "    }\n",
       "  </style>\n",
       "\n",
       "      <script>\n",
       "        const buttonEl =\n",
       "          document.querySelector('#df-869f8b97-54e3-4686-998a-f3bd3c68c56a button.colab-df-convert');\n",
       "        buttonEl.style.display =\n",
       "          google.colab.kernel.accessAllowed ? 'block' : 'none';\n",
       "\n",
       "        async function convertToInteractive(key) {\n",
       "          const element = document.querySelector('#df-869f8b97-54e3-4686-998a-f3bd3c68c56a');\n",
       "          const dataTable =\n",
       "            await google.colab.kernel.invokeFunction('convertToInteractive',\n",
       "                                                     [key], {});\n",
       "          if (!dataTable) return;\n",
       "\n",
       "          const docLinkHtml = 'Like what you see? Visit the ' +\n",
       "            '<a target=\"_blank\" href=https://colab.research.google.com/notebooks/data_table.ipynb>data table notebook</a>'\n",
       "            + ' to learn more about interactive tables.';\n",
       "          element.innerHTML = '';\n",
       "          dataTable['output_type'] = 'display_data';\n",
       "          await google.colab.output.renderOutput(dataTable, element);\n",
       "          const docLink = document.createElement('div');\n",
       "          docLink.innerHTML = docLinkHtml;\n",
       "          element.appendChild(docLink);\n",
       "        }\n",
       "      </script>\n",
       "    </div>\n",
       "  </div>\n",
       "  "
      ],
      "text/plain": [
       "                         name      genre  year    budget        gross           ROI\n",
       "5114      Paranormal Activity     Horror  2007   15000.0  193355800.0  12890.386667\n",
       "3459  The Blair Witch Project     Horror  1999   60000.0  248639099.0   4143.984983\n",
       "6815              The Gallows     Horror  2015  100000.0   42964410.0    429.644100\n",
       "2093              El Mariachi     Action  1992    7000.0    2040920.0    291.560000\n",
       "5154                     Once      Drama  2007  150000.0   20936722.0    139.578147\n",
       "2467                   Clerks     Comedy  1994   27000.0    3151130.0    116.708519\n",
       "4471        Napoleon Dynamite     Comedy  2004  400000.0   46138887.0    115.347217\n",
       "3233    In the Company of Men     Comedy  1997   25000.0    2804473.0    112.178920\n",
       "4814              Keeping Mum     Comedy  2005  169000.0   18586834.0    109.981266\n",
       "4304               Open Water  Adventure  2003  500000.0   54683487.0    109.366974"
      ]
     },
     "execution_count": 15,
     "metadata": {},
     "output_type": "execute_result"
    }
   ],
   "source": [
    "# top movies based on return-on-investment\n",
    "df[['name','genre','year','budget','gross','ROI']].sort_values(\n",
    "    'ROI', ascending = False).head(10)"
   ]
  },
  {
   "cell_type": "markdown",
   "id": "d1a66e04",
   "metadata": {
    "id": "d1a66e04"
   },
   "source": [
    "We can see some interesting patterns here. Genres like comedy and horror have huge returns on investment. There is no action, adventure, animation or sci-fi movie even in the top 20."
   ]
  },
  {
   "cell_type": "markdown",
   "id": "c714fe52",
   "metadata": {
    "id": "c714fe52"
   },
   "source": [
    "### 2.8 Count of movies genre-wise"
   ]
  },
  {
   "cell_type": "code",
   "execution_count": 16,
   "id": "63ca4669",
   "metadata": {
    "colab": {
     "base_uri": "https://localhost:8080/"
    },
    "id": "63ca4669",
    "outputId": "42a37462-7a2c-4d6a-bc2f-79226487da8c"
   },
   "outputs": [
    {
     "data": {
      "text/plain": [
       "Comedy       1218\n",
       "Action       1193\n",
       "Drama         739\n",
       "Crime         339\n",
       "Biography     279\n",
       "Animation     259\n",
       "Adventure     255\n",
       "Horror        191\n",
       "Fantasy        27\n",
       "Mystery        17\n",
       "Thriller        5\n",
       "Romance         4\n",
       "Sci-Fi          3\n",
       "Family          3\n",
       "Western         1\n",
       "Name: genre, dtype: int64"
      ]
     },
     "execution_count": 16,
     "metadata": {},
     "output_type": "execute_result"
    }
   ],
   "source": [
    "df['genre'].value_counts()"
   ]
  },
  {
   "cell_type": "markdown",
   "id": "f25a8f88",
   "metadata": {
    "id": "f25a8f88"
   },
   "source": [
    "Top 3 most popular genres in which movies were released : comedy, action, and drama."
   ]
  },
  {
   "cell_type": "markdown",
   "id": "472eca23",
   "metadata": {
    "id": "472eca23"
   },
   "source": [
    "### 2.9 Top genres based on number of votes (median)"
   ]
  },
  {
   "cell_type": "code",
   "execution_count": 17,
   "id": "3af9d65a",
   "metadata": {
    "colab": {
     "base_uri": "https://localhost:8080/"
    },
    "id": "3af9d65a",
    "outputId": "0c86f508-2a71-44fb-9621-2338771924e2"
   },
   "outputs": [
    {
     "data": {
      "text/plain": [
       "genre\n",
       "Action       104000.0\n",
       "Animation     83000.0\n",
       "Sci-Fi        75000.0\n",
       "Mystery       69000.0\n",
       "Adventure     65000.0\n",
       "Horror        65000.0\n",
       "Biography     55000.0\n",
       "Crime         51000.0\n",
       "Drama         51000.0\n",
       "Comedy        43000.0\n",
       "Fantasy       43000.0\n",
       "Family        27000.0\n",
       "Romance       21100.0\n",
       "Thriller      20000.0\n",
       "Western        4200.0\n",
       "Name: votes, dtype: float64"
      ]
     },
     "execution_count": 17,
     "metadata": {},
     "output_type": "execute_result"
    }
   ],
   "source": [
    "df.groupby(['genre'])['votes'].median().sort_values(ascending=False)"
   ]
  },
  {
   "cell_type": "markdown",
   "id": "944d8d80",
   "metadata": {
    "id": "944d8d80"
   },
   "source": [
    "Action genre movies seem to get high number of votes followed by animation and sci-fi genres. Comedy and drama genres are not even in the top 10. "
   ]
  },
  {
   "cell_type": "markdown",
   "id": "d62cd47e",
   "metadata": {
    "id": "d62cd47e"
   },
   "source": [
    "### 2.10 Top genres based on average score (out of 10)"
   ]
  },
  {
   "cell_type": "code",
   "execution_count": 18,
   "id": "43501158",
   "metadata": {
    "colab": {
     "base_uri": "https://localhost:8080/"
    },
    "id": "43501158",
    "outputId": "31c57b60-d782-4f42-a267-7e1d3bb6f229"
   },
   "outputs": [
    {
     "data": {
      "text/plain": [
       "genre\n",
       "Biography    7.083154\n",
       "Drama        6.748579\n",
       "Crime        6.696755\n",
       "Mystery      6.670588\n",
       "Animation    6.664093\n",
       "Romance      6.475000\n",
       "Sci-Fi       6.433333\n",
       "Family       6.300000\n",
       "Adventure    6.299608\n",
       "Action       6.257418\n",
       "Comedy       6.173481\n",
       "Fantasy      5.977778\n",
       "Horror       5.765445\n",
       "Thriller     5.760000\n",
       "Western      5.500000\n",
       "Name: score, dtype: float64"
      ]
     },
     "execution_count": 18,
     "metadata": {},
     "output_type": "execute_result"
    }
   ],
   "source": [
    "df.groupby(['genre'])['score'].mean().sort_values(ascending=False)"
   ]
  },
  {
   "cell_type": "markdown",
   "id": "22ca2b4f",
   "metadata": {
    "id": "22ca2b4f"
   },
   "source": [
    "The genres biography, drama, and crime are the top three in this list. IMDB rating suggest and show that these genres have been liked by audiences all throughtout the 30 years. \n",
    "'Biography' has received the highest score, depicts creative love for this genre. "
   ]
  },
  {
   "cell_type": "markdown",
   "id": "1b0b2b78",
   "metadata": {
    "id": "1b0b2b78"
   },
   "source": [
    "### 2.11 Top genres based on budget (median)"
   ]
  },
  {
   "cell_type": "code",
   "execution_count": 19,
   "id": "594c5888",
   "metadata": {
    "colab": {
     "base_uri": "https://localhost:8080/"
    },
    "id": "594c5888",
    "outputId": "a39feba5-0571-41e3-cfe0-d29b03647ffa"
   },
   "outputs": [
    {
     "data": {
      "text/plain": [
       "genre\n",
       "Animation    75000000.0\n",
       "Action       50000000.0\n",
       "Adventure    33000000.0\n",
       "Sci-Fi       27000000.0\n",
       "Mystery      24000000.0\n",
       "Biography    23000000.0\n",
       "Comedy       20000000.0\n",
       "Crime        19000000.0\n",
       "Family       19000000.0\n",
       "Romance      19000000.0\n",
       "Drama        18000000.0\n",
       "Thriller     13200000.0\n",
       "Horror       12000000.0\n",
       "Fantasy      11000000.0\n",
       "Western      10000000.0\n",
       "Name: budget, dtype: float64"
      ]
     },
     "execution_count": 19,
     "metadata": {},
     "output_type": "execute_result"
    }
   ],
   "source": [
    "df.groupby(['genre'])['budget'].median().sort_values(ascending=False)"
   ]
  },
  {
   "cell_type": "markdown",
   "id": "f69389b2",
   "metadata": {
    "id": "f69389b2"
   },
   "source": [
    "Genres like animation, action, adventure and sci-fi have the maximum budget most probably due to high spending on CGI and VFX."
   ]
  },
  {
   "cell_type": "markdown",
   "id": "9bf4b7a3",
   "metadata": {
    "id": "9bf4b7a3"
   },
   "source": [
    "### 2.12 Top genres based on gross collection (median)"
   ]
  },
  {
   "cell_type": "code",
   "execution_count": 20,
   "id": "1c848221",
   "metadata": {
    "colab": {
     "base_uri": "https://localhost:8080/"
    },
    "id": "1c848221",
    "outputId": "e31bf7c0-97ac-4cbd-a9e9-91a960033354"
   },
   "outputs": [
    {
     "data": {
      "text/plain": [
       "genre\n",
       "Animation    203172417.0\n",
       "Action        91490353.0\n",
       "Adventure     66976317.0\n",
       "Thriller      52425855.0\n",
       "Horror        41898409.0\n",
       "Sci-Fi        40170558.0\n",
       "Biography     34209066.0\n",
       "Comedy        32508746.5\n",
       "Drama         25211175.0\n",
       "Mystery       23726793.0\n",
       "Crime         22540359.0\n",
       "Fantasy       21150265.0\n",
       "Western       18289763.0\n",
       "Family        14867514.0\n",
       "Romance        5481689.0\n",
       "Name: gross, dtype: float64"
      ]
     },
     "execution_count": 20,
     "metadata": {},
     "output_type": "execute_result"
    }
   ],
   "source": [
    "# median values of 'gross' for each 'genre'\n",
    "df.groupby(['genre'])['gross'].median().sort_values(ascending=False)"
   ]
  },
  {
   "cell_type": "markdown",
   "id": "5124aa77",
   "metadata": {
    "id": "5124aa77"
   },
   "source": [
    "If we look at the gross collection of all the movies in the last 30 years, then genres like animation, action, and adventure are at top of the chart."
   ]
  },
  {
   "cell_type": "markdown",
   "id": "ddf8edc7",
   "metadata": {
    "id": "ddf8edc7"
   },
   "source": [
    "### 2.13 Top genres based on return-on-investment (median)"
   ]
  },
  {
   "cell_type": "code",
   "execution_count": 21,
   "id": "84cd11c7",
   "metadata": {
    "colab": {
     "base_uri": "https://localhost:8080/"
    },
    "id": "84cd11c7",
    "outputId": "b7413965-04b3-4d14-af0e-78555d661bfd"
   },
   "outputs": [
    {
     "data": {
      "text/plain": [
       "genre\n",
       "Thriller     4.115395\n",
       "Sci-Fi       3.819302\n",
       "Horror       3.192790\n",
       "Animation    2.952271\n",
       "Adventure    2.089568\n",
       "Fantasy      2.060715\n",
       "Mystery      1.977233\n",
       "Action       1.913352\n",
       "Western      1.828976\n",
       "Comedy       1.773659\n",
       "Drama        1.642246\n",
       "Biography    1.479125\n",
       "Crime        1.363321\n",
       "Family       0.991168\n",
       "Romance      0.374200\n",
       "Name: ROI, dtype: float64"
      ]
     },
     "execution_count": 21,
     "metadata": {},
     "output_type": "execute_result"
    }
   ],
   "source": [
    "# median values of 'ROI' for each 'genre'\n",
    "df.groupby(['genre'])['ROI'].median().sort_values(ascending=False)"
   ]
  },
  {
   "cell_type": "markdown",
   "id": "008a5f88",
   "metadata": {
    "id": "008a5f88"
   },
   "source": [
    "In the list above, it seems that there are more chances of high returns in genres like thriller, sci-fi, and horror. "
   ]
  },
  {
   "cell_type": "markdown",
   "id": "2473146d",
   "metadata": {
    "id": "2473146d"
   },
   "source": [
    "### 2.14 Count of movies released in different countries"
   ]
  },
  {
   "cell_type": "code",
   "execution_count": 22,
   "id": "a4a1a20f",
   "metadata": {
    "colab": {
     "base_uri": "https://localhost:8080/"
    },
    "id": "a4a1a20f",
    "outputId": "cf007730-35cd-440d-a515-d5e447a4ed7f"
   },
   "outputs": [
    {
     "data": {
      "text/plain": [
       "United States     0.791970\n",
       "United Kingdom    0.088021\n",
       "France            0.022281\n",
       "Canada            0.020516\n",
       "Germany           0.018090\n",
       "Australia         0.007501\n",
       "China             0.005736\n",
       "Japan             0.004853\n",
       "Hong Kong         0.004633\n",
       "Ireland           0.004191\n",
       "New Zealand       0.003530\n",
       "Spain             0.003530\n",
       "Italy             0.002868\n",
       "South Korea       0.002427\n",
       "Denmark           0.002206\n",
       "India             0.001765\n",
       "Mexico            0.001544\n",
       "Czech Republic    0.001544\n",
       "Belgium           0.000882\n",
       "Russia            0.000882\n",
       "Name: country, dtype: float64"
      ]
     },
     "execution_count": 22,
     "metadata": {},
     "output_type": "execute_result"
    }
   ],
   "source": [
    "# percentage of movies released in different countries (1990-2020)\n",
    "df['country'].value_counts(normalize = True).head(20)"
   ]
  },
  {
   "cell_type": "markdown",
   "id": "4872dd06",
   "metadata": {
    "id": "4872dd06"
   },
   "source": [
    "Approximately 92% of the movies were released in United States, United Kingdom, France and Canada."
   ]
  },
  {
   "cell_type": "markdown",
   "id": "2a49d05c",
   "metadata": {
    "id": "2a49d05c"
   },
   "source": [
    "### 2.15 Average runtime of movies year-wise"
   ]
  },
  {
   "cell_type": "code",
   "execution_count": 23,
   "id": "fe82ea85",
   "metadata": {
    "colab": {
     "base_uri": "https://localhost:8080/"
    },
    "id": "fe82ea85",
    "outputId": "e2ec3abe-c746-4f8a-c1f4-a73050274be6"
   },
   "outputs": [
    {
     "data": {
      "text/plain": [
       "year\n",
       "2020    119.500000\n",
       "2019    112.353982\n",
       "2017    112.315789\n",
       "2018    111.853147\n",
       "2016    111.050633\n",
       "2015    110.993590\n",
       "2014    110.766871\n",
       "2013    110.590062\n",
       "1997    109.590604\n",
       "1993    109.328571\n",
       "2005    108.994118\n",
       "1995    108.876812\n",
       "2007    108.719745\n",
       "1999    108.623457\n",
       "1998    108.506757\n",
       "2006    108.503067\n",
       "1996    108.479167\n",
       "2004    108.360759\n",
       "2000    108.185185\n",
       "2012    107.765432\n",
       "1992    107.748092\n",
       "2011    107.693750\n",
       "1991    107.548673\n",
       "2003    107.540881\n",
       "1990    107.171171\n",
       "2009    107.122807\n",
       "2001    107.097561\n",
       "1994    107.062500\n",
       "2010    106.823171\n",
       "2008    106.280702\n",
       "2002    105.086705\n",
       "Name: runtime, dtype: float64"
      ]
     },
     "execution_count": 23,
     "metadata": {},
     "output_type": "execute_result"
    }
   ],
   "source": [
    "df.groupby(['year'])['runtime'].mean().sort_values(ascending=False)"
   ]
  },
  {
   "cell_type": "markdown",
   "id": "ea95f0e0",
   "metadata": {
    "id": "ea95f0e0"
   },
   "source": [
    "The average runtime is on the rise of late. For example, there is a big difference of 7 minutes between average runtime in 2020 and 2019."
   ]
  },
  {
   "cell_type": "markdown",
   "id": "63b572db",
   "metadata": {
    "id": "63b572db"
   },
   "source": [
    "# 3. Subsets of Data"
   ]
  },
  {
   "cell_type": "markdown",
   "id": "9791421b",
   "metadata": {
    "id": "9791421b"
   },
   "source": [
    "### 3.1 Subset data using name, genre, score, roi and director"
   ]
  },
  {
   "cell_type": "markdown",
   "id": "57b69cdf",
   "metadata": {
    "id": "57b69cdf"
   },
   "source": [
    "Let's take data of the movies that released 2017 onwards and whose budget is or above $100 million."
   ]
  },
  {
   "cell_type": "code",
   "execution_count": 24,
   "id": "7ada4955",
   "metadata": {
    "id": "7ada4955"
   },
   "outputs": [],
   "source": [
    "director_df = df[(df['budget'] >= 100e6) & \n",
    "                 (df['year'] >= 2017)][['name','genre','score','director','ROI']]"
   ]
  },
  {
   "cell_type": "code",
   "execution_count": 25,
   "id": "4a04fdcf",
   "metadata": {
    "colab": {
     "base_uri": "https://localhost:8080/",
     "height": 206
    },
    "id": "4a04fdcf",
    "outputId": "5cf3cf7a-b40f-4bb6-ea41-9d3b831d49c4"
   },
   "outputs": [
    {
     "data": {
      "text/html": [
       "\n",
       "  <div id=\"df-279cf8d1-4305-435b-b9c4-0e1a04441d60\">\n",
       "    <div class=\"colab-df-container\">\n",
       "      <div>\n",
       "<style scoped>\n",
       "    .dataframe tbody tr th:only-of-type {\n",
       "        vertical-align: middle;\n",
       "    }\n",
       "\n",
       "    .dataframe tbody tr th {\n",
       "        vertical-align: top;\n",
       "    }\n",
       "\n",
       "    .dataframe thead th {\n",
       "        text-align: right;\n",
       "    }\n",
       "</style>\n",
       "<table border=\"1\" class=\"dataframe\">\n",
       "  <thead>\n",
       "    <tr style=\"text-align: right;\">\n",
       "      <th></th>\n",
       "      <th>name</th>\n",
       "      <th>genre</th>\n",
       "      <th>score</th>\n",
       "      <th>director</th>\n",
       "      <th>ROI</th>\n",
       "    </tr>\n",
       "  </thead>\n",
       "  <tbody>\n",
       "    <tr>\n",
       "      <th>7043</th>\n",
       "      <td>Thor: Ragnarok</td>\n",
       "      <td>Action</td>\n",
       "      <td>7.9</td>\n",
       "      <td>Taika Waititi</td>\n",
       "      <td>4.744355</td>\n",
       "    </tr>\n",
       "    <tr>\n",
       "      <th>7047</th>\n",
       "      <td>Spider-Man: Homecoming</td>\n",
       "      <td>Action</td>\n",
       "      <td>7.4</td>\n",
       "      <td>Jon Watts</td>\n",
       "      <td>5.029525</td>\n",
       "    </tr>\n",
       "    <tr>\n",
       "      <th>7048</th>\n",
       "      <td>Blade Runner 2049</td>\n",
       "      <td>Action</td>\n",
       "      <td>8.0</td>\n",
       "      <td>Denis Villeneuve</td>\n",
       "      <td>1.728897</td>\n",
       "    </tr>\n",
       "    <tr>\n",
       "      <th>7049</th>\n",
       "      <td>Guardians of the Galaxy Vol. 2</td>\n",
       "      <td>Action</td>\n",
       "      <td>7.6</td>\n",
       "      <td>James Gunn</td>\n",
       "      <td>4.318780</td>\n",
       "    </tr>\n",
       "    <tr>\n",
       "      <th>7055</th>\n",
       "      <td>The Fate of the Furious</td>\n",
       "      <td>Action</td>\n",
       "      <td>6.6</td>\n",
       "      <td>F. Gary Gray</td>\n",
       "      <td>4.944020</td>\n",
       "    </tr>\n",
       "  </tbody>\n",
       "</table>\n",
       "</div>\n",
       "      <button class=\"colab-df-convert\" onclick=\"convertToInteractive('df-279cf8d1-4305-435b-b9c4-0e1a04441d60')\"\n",
       "              title=\"Convert this dataframe to an interactive table.\"\n",
       "              style=\"display:none;\">\n",
       "        \n",
       "  <svg xmlns=\"http://www.w3.org/2000/svg\" height=\"24px\"viewBox=\"0 0 24 24\"\n",
       "       width=\"24px\">\n",
       "    <path d=\"M0 0h24v24H0V0z\" fill=\"none\"/>\n",
       "    <path d=\"M18.56 5.44l.94 2.06.94-2.06 2.06-.94-2.06-.94-.94-2.06-.94 2.06-2.06.94zm-11 1L8.5 8.5l.94-2.06 2.06-.94-2.06-.94L8.5 2.5l-.94 2.06-2.06.94zm10 10l.94 2.06.94-2.06 2.06-.94-2.06-.94-.94-2.06-.94 2.06-2.06.94z\"/><path d=\"M17.41 7.96l-1.37-1.37c-.4-.4-.92-.59-1.43-.59-.52 0-1.04.2-1.43.59L10.3 9.45l-7.72 7.72c-.78.78-.78 2.05 0 2.83L4 21.41c.39.39.9.59 1.41.59.51 0 1.02-.2 1.41-.59l7.78-7.78 2.81-2.81c.8-.78.8-2.07 0-2.86zM5.41 20L4 18.59l7.72-7.72 1.47 1.35L5.41 20z\"/>\n",
       "  </svg>\n",
       "      </button>\n",
       "      \n",
       "  <style>\n",
       "    .colab-df-container {\n",
       "      display:flex;\n",
       "      flex-wrap:wrap;\n",
       "      gap: 12px;\n",
       "    }\n",
       "\n",
       "    .colab-df-convert {\n",
       "      background-color: #E8F0FE;\n",
       "      border: none;\n",
       "      border-radius: 50%;\n",
       "      cursor: pointer;\n",
       "      display: none;\n",
       "      fill: #1967D2;\n",
       "      height: 32px;\n",
       "      padding: 0 0 0 0;\n",
       "      width: 32px;\n",
       "    }\n",
       "\n",
       "    .colab-df-convert:hover {\n",
       "      background-color: #E2EBFA;\n",
       "      box-shadow: 0px 1px 2px rgba(60, 64, 67, 0.3), 0px 1px 3px 1px rgba(60, 64, 67, 0.15);\n",
       "      fill: #174EA6;\n",
       "    }\n",
       "\n",
       "    [theme=dark] .colab-df-convert {\n",
       "      background-color: #3B4455;\n",
       "      fill: #D2E3FC;\n",
       "    }\n",
       "\n",
       "    [theme=dark] .colab-df-convert:hover {\n",
       "      background-color: #434B5C;\n",
       "      box-shadow: 0px 1px 3px 1px rgba(0, 0, 0, 0.15);\n",
       "      filter: drop-shadow(0px 1px 2px rgba(0, 0, 0, 0.3));\n",
       "      fill: #FFFFFF;\n",
       "    }\n",
       "  </style>\n",
       "\n",
       "      <script>\n",
       "        const buttonEl =\n",
       "          document.querySelector('#df-279cf8d1-4305-435b-b9c4-0e1a04441d60 button.colab-df-convert');\n",
       "        buttonEl.style.display =\n",
       "          google.colab.kernel.accessAllowed ? 'block' : 'none';\n",
       "\n",
       "        async function convertToInteractive(key) {\n",
       "          const element = document.querySelector('#df-279cf8d1-4305-435b-b9c4-0e1a04441d60');\n",
       "          const dataTable =\n",
       "            await google.colab.kernel.invokeFunction('convertToInteractive',\n",
       "                                                     [key], {});\n",
       "          if (!dataTable) return;\n",
       "\n",
       "          const docLinkHtml = 'Like what you see? Visit the ' +\n",
       "            '<a target=\"_blank\" href=https://colab.research.google.com/notebooks/data_table.ipynb>data table notebook</a>'\n",
       "            + ' to learn more about interactive tables.';\n",
       "          element.innerHTML = '';\n",
       "          dataTable['output_type'] = 'display_data';\n",
       "          await google.colab.output.renderOutput(dataTable, element);\n",
       "          const docLink = document.createElement('div');\n",
       "          docLink.innerHTML = docLinkHtml;\n",
       "          element.appendChild(docLink);\n",
       "        }\n",
       "      </script>\n",
       "    </div>\n",
       "  </div>\n",
       "  "
      ],
      "text/plain": [
       "                                name   genre  score          director       ROI\n",
       "7043                  Thor: Ragnarok  Action    7.9     Taika Waititi  4.744355\n",
       "7047          Spider-Man: Homecoming  Action    7.4         Jon Watts  5.029525\n",
       "7048               Blade Runner 2049  Action    8.0  Denis Villeneuve  1.728897\n",
       "7049  Guardians of the Galaxy Vol. 2  Action    7.6        James Gunn  4.318780\n",
       "7055         The Fate of the Furious  Action    6.6      F. Gary Gray  4.944020"
      ]
     },
     "execution_count": 25,
     "metadata": {},
     "output_type": "execute_result"
    }
   ],
   "source": [
    "director_df.head()"
   ]
  },
  {
   "cell_type": "markdown",
   "id": "CogbVOV5T-7T",
   "metadata": {
    "id": "CogbVOV5T-7T"
   },
   "source": [
    "Analysis for recent years shows that Jon Watta and F. Gary Gray as promising directors with high ROI. And there genres has been \"Action\". "
   ]
  },
  {
   "cell_type": "markdown",
   "id": "ed827024",
   "metadata": {
    "id": "ed827024"
   },
   "source": [
    "### 3.2 Subset data using name,genre, ROI and Company"
   ]
  },
  {
   "cell_type": "markdown",
   "id": "2d744473",
   "metadata": {
    "id": "2d744473"
   },
   "source": [
    "Let's take a subset of data for the last five years. Recent trends could be useful for suggesting the type movie to produce."
   ]
  },
  {
   "cell_type": "code",
   "execution_count": 26,
   "id": "XzgkiVDHG5wo",
   "metadata": {
    "id": "XzgkiVDHG5wo"
   },
   "outputs": [],
   "source": [
    "company_df = df[df['year'] >= 2015][['name','genre','ROI','company']]"
   ]
  },
  {
   "cell_type": "code",
   "execution_count": 27,
   "id": "ELdOn8dHG9D8",
   "metadata": {
    "colab": {
     "base_uri": "https://localhost:8080/",
     "height": 363
    },
    "id": "ELdOn8dHG9D8",
    "outputId": "4aacdd96-719a-4b84-e741-3978f410b197"
   },
   "outputs": [
    {
     "data": {
      "text/html": [
       "\n",
       "  <div id=\"df-866954c9-c0e3-4c06-b0c2-71a2d2640870\">\n",
       "    <div class=\"colab-df-container\">\n",
       "      <div>\n",
       "<style scoped>\n",
       "    .dataframe tbody tr th:only-of-type {\n",
       "        vertical-align: middle;\n",
       "    }\n",
       "\n",
       "    .dataframe tbody tr th {\n",
       "        vertical-align: top;\n",
       "    }\n",
       "\n",
       "    .dataframe thead th {\n",
       "        text-align: right;\n",
       "    }\n",
       "</style>\n",
       "<table border=\"1\" class=\"dataframe\">\n",
       "  <thead>\n",
       "    <tr style=\"text-align: right;\">\n",
       "      <th></th>\n",
       "      <th>name</th>\n",
       "      <th>genre</th>\n",
       "      <th>ROI</th>\n",
       "      <th>company</th>\n",
       "    </tr>\n",
       "  </thead>\n",
       "  <tbody>\n",
       "    <tr>\n",
       "      <th>6815</th>\n",
       "      <td>The Gallows</td>\n",
       "      <td>Horror</td>\n",
       "      <td>429.644100</td>\n",
       "      <td>New Line Cinema</td>\n",
       "    </tr>\n",
       "    <tr>\n",
       "      <th>7330</th>\n",
       "      <td>Searching</td>\n",
       "      <td>Drama</td>\n",
       "      <td>85.752315</td>\n",
       "      <td>Screen Gems</td>\n",
       "    </tr>\n",
       "    <tr>\n",
       "      <th>7056</th>\n",
       "      <td>Get Out</td>\n",
       "      <td>Horror</td>\n",
       "      <td>56.797590</td>\n",
       "      <td>Universal Pictures</td>\n",
       "    </tr>\n",
       "    <tr>\n",
       "      <th>6850</th>\n",
       "      <td>Split</td>\n",
       "      <td>Horror</td>\n",
       "      <td>30.939380</td>\n",
       "      <td>Universal Pictures</td>\n",
       "    </tr>\n",
       "    <tr>\n",
       "      <th>6910</th>\n",
       "      <td>Lights Out</td>\n",
       "      <td>Drama</td>\n",
       "      <td>30.381395</td>\n",
       "      <td>New Line Cinema</td>\n",
       "    </tr>\n",
       "    <tr>\n",
       "      <th>7355</th>\n",
       "      <td>Truth or Dare</td>\n",
       "      <td>Horror</td>\n",
       "      <td>27.237346</td>\n",
       "      <td>Blumhouse Productions</td>\n",
       "    </tr>\n",
       "    <tr>\n",
       "      <th>7086</th>\n",
       "      <td>Happy Death Day</td>\n",
       "      <td>Comedy</td>\n",
       "      <td>26.141514</td>\n",
       "      <td>Universal Pictures</td>\n",
       "    </tr>\n",
       "    <tr>\n",
       "      <th>7280</th>\n",
       "      <td>Halloween</td>\n",
       "      <td>Crime</td>\n",
       "      <td>25.561494</td>\n",
       "      <td>Blumhouse Productions</td>\n",
       "    </tr>\n",
       "    <tr>\n",
       "      <th>6840</th>\n",
       "      <td>War Room</td>\n",
       "      <td>Drama</td>\n",
       "      <td>24.418755</td>\n",
       "      <td>FaithStep Films</td>\n",
       "    </tr>\n",
       "    <tr>\n",
       "      <th>7452</th>\n",
       "      <td>Parasite</td>\n",
       "      <td>Comedy</td>\n",
       "      <td>22.711233</td>\n",
       "      <td>Barunson E&amp;A</td>\n",
       "    </tr>\n",
       "  </tbody>\n",
       "</table>\n",
       "</div>\n",
       "      <button class=\"colab-df-convert\" onclick=\"convertToInteractive('df-866954c9-c0e3-4c06-b0c2-71a2d2640870')\"\n",
       "              title=\"Convert this dataframe to an interactive table.\"\n",
       "              style=\"display:none;\">\n",
       "        \n",
       "  <svg xmlns=\"http://www.w3.org/2000/svg\" height=\"24px\"viewBox=\"0 0 24 24\"\n",
       "       width=\"24px\">\n",
       "    <path d=\"M0 0h24v24H0V0z\" fill=\"none\"/>\n",
       "    <path d=\"M18.56 5.44l.94 2.06.94-2.06 2.06-.94-2.06-.94-.94-2.06-.94 2.06-2.06.94zm-11 1L8.5 8.5l.94-2.06 2.06-.94-2.06-.94L8.5 2.5l-.94 2.06-2.06.94zm10 10l.94 2.06.94-2.06 2.06-.94-2.06-.94-.94-2.06-.94 2.06-2.06.94z\"/><path d=\"M17.41 7.96l-1.37-1.37c-.4-.4-.92-.59-1.43-.59-.52 0-1.04.2-1.43.59L10.3 9.45l-7.72 7.72c-.78.78-.78 2.05 0 2.83L4 21.41c.39.39.9.59 1.41.59.51 0 1.02-.2 1.41-.59l7.78-7.78 2.81-2.81c.8-.78.8-2.07 0-2.86zM5.41 20L4 18.59l7.72-7.72 1.47 1.35L5.41 20z\"/>\n",
       "  </svg>\n",
       "      </button>\n",
       "      \n",
       "  <style>\n",
       "    .colab-df-container {\n",
       "      display:flex;\n",
       "      flex-wrap:wrap;\n",
       "      gap: 12px;\n",
       "    }\n",
       "\n",
       "    .colab-df-convert {\n",
       "      background-color: #E8F0FE;\n",
       "      border: none;\n",
       "      border-radius: 50%;\n",
       "      cursor: pointer;\n",
       "      display: none;\n",
       "      fill: #1967D2;\n",
       "      height: 32px;\n",
       "      padding: 0 0 0 0;\n",
       "      width: 32px;\n",
       "    }\n",
       "\n",
       "    .colab-df-convert:hover {\n",
       "      background-color: #E2EBFA;\n",
       "      box-shadow: 0px 1px 2px rgba(60, 64, 67, 0.3), 0px 1px 3px 1px rgba(60, 64, 67, 0.15);\n",
       "      fill: #174EA6;\n",
       "    }\n",
       "\n",
       "    [theme=dark] .colab-df-convert {\n",
       "      background-color: #3B4455;\n",
       "      fill: #D2E3FC;\n",
       "    }\n",
       "\n",
       "    [theme=dark] .colab-df-convert:hover {\n",
       "      background-color: #434B5C;\n",
       "      box-shadow: 0px 1px 3px 1px rgba(0, 0, 0, 0.15);\n",
       "      filter: drop-shadow(0px 1px 2px rgba(0, 0, 0, 0.3));\n",
       "      fill: #FFFFFF;\n",
       "    }\n",
       "  </style>\n",
       "\n",
       "      <script>\n",
       "        const buttonEl =\n",
       "          document.querySelector('#df-866954c9-c0e3-4c06-b0c2-71a2d2640870 button.colab-df-convert');\n",
       "        buttonEl.style.display =\n",
       "          google.colab.kernel.accessAllowed ? 'block' : 'none';\n",
       "\n",
       "        async function convertToInteractive(key) {\n",
       "          const element = document.querySelector('#df-866954c9-c0e3-4c06-b0c2-71a2d2640870');\n",
       "          const dataTable =\n",
       "            await google.colab.kernel.invokeFunction('convertToInteractive',\n",
       "                                                     [key], {});\n",
       "          if (!dataTable) return;\n",
       "\n",
       "          const docLinkHtml = 'Like what you see? Visit the ' +\n",
       "            '<a target=\"_blank\" href=https://colab.research.google.com/notebooks/data_table.ipynb>data table notebook</a>'\n",
       "            + ' to learn more about interactive tables.';\n",
       "          element.innerHTML = '';\n",
       "          dataTable['output_type'] = 'display_data';\n",
       "          await google.colab.output.renderOutput(dataTable, element);\n",
       "          const docLink = document.createElement('div');\n",
       "          docLink.innerHTML = docLinkHtml;\n",
       "          element.appendChild(docLink);\n",
       "        }\n",
       "      </script>\n",
       "    </div>\n",
       "  </div>\n",
       "  "
      ],
      "text/plain": [
       "                 name   genre         ROI                company\n",
       "6815      The Gallows  Horror  429.644100        New Line Cinema\n",
       "7330        Searching   Drama   85.752315            Screen Gems\n",
       "7056          Get Out  Horror   56.797590     Universal Pictures\n",
       "6850            Split  Horror   30.939380     Universal Pictures\n",
       "6910       Lights Out   Drama   30.381395        New Line Cinema\n",
       "7355    Truth or Dare  Horror   27.237346  Blumhouse Productions\n",
       "7086  Happy Death Day  Comedy   26.141514     Universal Pictures\n",
       "7280        Halloween   Crime   25.561494  Blumhouse Productions\n",
       "6840         War Room   Drama   24.418755        FaithStep Films\n",
       "7452         Parasite  Comedy   22.711233           Barunson E&A"
      ]
     },
     "execution_count": 27,
     "metadata": {},
     "output_type": "execute_result"
    }
   ],
   "source": [
    "# print top 10 movies based on return on investment\n",
    "company_df.sort_values('ROI', ascending=False).head(10)"
   ]
  },
  {
   "cell_type": "markdown",
   "id": "muGD-SHQUf2E",
   "metadata": {
    "id": "muGD-SHQUf2E"
   },
   "source": [
    "From the year 2015 onwards: Horror and Drama is giving highest returns though they have not been highest grossing. "
   ]
  },
  {
   "cell_type": "markdown",
   "id": "80d90b8d",
   "metadata": {
    "id": "80d90b8d"
   },
   "source": [
    "### 3.3 Subset data using name,genre,budget and gross"
   ]
  },
  {
   "cell_type": "code",
   "execution_count": 28,
   "id": "BRnBq0YnG4KD",
   "metadata": {
    "id": "BRnBq0YnG4KD"
   },
   "outputs": [],
   "source": [
    "budget_gross_df = df[df['year'] >= 2015][['name','genre','budget','gross']]"
   ]
  },
  {
   "cell_type": "code",
   "execution_count": 29,
   "id": "P-JU07LEHJJr",
   "metadata": {
    "colab": {
     "base_uri": "https://localhost:8080/",
     "height": 206
    },
    "id": "P-JU07LEHJJr",
    "outputId": "e907f4b3-3ec4-4fa1-c090-88068e4a599d"
   },
   "outputs": [
    {
     "data": {
      "text/html": [
       "\n",
       "  <div id=\"df-f6e580fe-ce51-4ca7-b404-b84e8d907a54\">\n",
       "    <div class=\"colab-df-container\">\n",
       "      <div>\n",
       "<style scoped>\n",
       "    .dataframe tbody tr th:only-of-type {\n",
       "        vertical-align: middle;\n",
       "    }\n",
       "\n",
       "    .dataframe tbody tr th {\n",
       "        vertical-align: top;\n",
       "    }\n",
       "\n",
       "    .dataframe thead th {\n",
       "        text-align: right;\n",
       "    }\n",
       "</style>\n",
       "<table border=\"1\" class=\"dataframe\">\n",
       "  <thead>\n",
       "    <tr style=\"text-align: right;\">\n",
       "      <th></th>\n",
       "      <th>name</th>\n",
       "      <th>genre</th>\n",
       "      <th>budget</th>\n",
       "      <th>gross</th>\n",
       "    </tr>\n",
       "  </thead>\n",
       "  <tbody>\n",
       "    <tr>\n",
       "      <th>6643</th>\n",
       "      <td>Mad Max: Fury Road</td>\n",
       "      <td>Action</td>\n",
       "      <td>150000000.0</td>\n",
       "      <td>3.756588e+08</td>\n",
       "    </tr>\n",
       "    <tr>\n",
       "      <th>6644</th>\n",
       "      <td>Avengers: Age of Ultron</td>\n",
       "      <td>Action</td>\n",
       "      <td>250000000.0</td>\n",
       "      <td>1.402810e+09</td>\n",
       "    </tr>\n",
       "    <tr>\n",
       "      <th>6645</th>\n",
       "      <td>Crimson Peak</td>\n",
       "      <td>Drama</td>\n",
       "      <td>55000000.0</td>\n",
       "      <td>7.467982e+07</td>\n",
       "    </tr>\n",
       "    <tr>\n",
       "      <th>6646</th>\n",
       "      <td>Furious 7</td>\n",
       "      <td>Action</td>\n",
       "      <td>190000000.0</td>\n",
       "      <td>1.515341e+09</td>\n",
       "    </tr>\n",
       "    <tr>\n",
       "      <th>6647</th>\n",
       "      <td>The Hateful Eight</td>\n",
       "      <td>Crime</td>\n",
       "      <td>44000000.0</td>\n",
       "      <td>1.564802e+08</td>\n",
       "    </tr>\n",
       "  </tbody>\n",
       "</table>\n",
       "</div>\n",
       "      <button class=\"colab-df-convert\" onclick=\"convertToInteractive('df-f6e580fe-ce51-4ca7-b404-b84e8d907a54')\"\n",
       "              title=\"Convert this dataframe to an interactive table.\"\n",
       "              style=\"display:none;\">\n",
       "        \n",
       "  <svg xmlns=\"http://www.w3.org/2000/svg\" height=\"24px\"viewBox=\"0 0 24 24\"\n",
       "       width=\"24px\">\n",
       "    <path d=\"M0 0h24v24H0V0z\" fill=\"none\"/>\n",
       "    <path d=\"M18.56 5.44l.94 2.06.94-2.06 2.06-.94-2.06-.94-.94-2.06-.94 2.06-2.06.94zm-11 1L8.5 8.5l.94-2.06 2.06-.94-2.06-.94L8.5 2.5l-.94 2.06-2.06.94zm10 10l.94 2.06.94-2.06 2.06-.94-2.06-.94-.94-2.06-.94 2.06-2.06.94z\"/><path d=\"M17.41 7.96l-1.37-1.37c-.4-.4-.92-.59-1.43-.59-.52 0-1.04.2-1.43.59L10.3 9.45l-7.72 7.72c-.78.78-.78 2.05 0 2.83L4 21.41c.39.39.9.59 1.41.59.51 0 1.02-.2 1.41-.59l7.78-7.78 2.81-2.81c.8-.78.8-2.07 0-2.86zM5.41 20L4 18.59l7.72-7.72 1.47 1.35L5.41 20z\"/>\n",
       "  </svg>\n",
       "      </button>\n",
       "      \n",
       "  <style>\n",
       "    .colab-df-container {\n",
       "      display:flex;\n",
       "      flex-wrap:wrap;\n",
       "      gap: 12px;\n",
       "    }\n",
       "\n",
       "    .colab-df-convert {\n",
       "      background-color: #E8F0FE;\n",
       "      border: none;\n",
       "      border-radius: 50%;\n",
       "      cursor: pointer;\n",
       "      display: none;\n",
       "      fill: #1967D2;\n",
       "      height: 32px;\n",
       "      padding: 0 0 0 0;\n",
       "      width: 32px;\n",
       "    }\n",
       "\n",
       "    .colab-df-convert:hover {\n",
       "      background-color: #E2EBFA;\n",
       "      box-shadow: 0px 1px 2px rgba(60, 64, 67, 0.3), 0px 1px 3px 1px rgba(60, 64, 67, 0.15);\n",
       "      fill: #174EA6;\n",
       "    }\n",
       "\n",
       "    [theme=dark] .colab-df-convert {\n",
       "      background-color: #3B4455;\n",
       "      fill: #D2E3FC;\n",
       "    }\n",
       "\n",
       "    [theme=dark] .colab-df-convert:hover {\n",
       "      background-color: #434B5C;\n",
       "      box-shadow: 0px 1px 3px 1px rgba(0, 0, 0, 0.15);\n",
       "      filter: drop-shadow(0px 1px 2px rgba(0, 0, 0, 0.3));\n",
       "      fill: #FFFFFF;\n",
       "    }\n",
       "  </style>\n",
       "\n",
       "      <script>\n",
       "        const buttonEl =\n",
       "          document.querySelector('#df-f6e580fe-ce51-4ca7-b404-b84e8d907a54 button.colab-df-convert');\n",
       "        buttonEl.style.display =\n",
       "          google.colab.kernel.accessAllowed ? 'block' : 'none';\n",
       "\n",
       "        async function convertToInteractive(key) {\n",
       "          const element = document.querySelector('#df-f6e580fe-ce51-4ca7-b404-b84e8d907a54');\n",
       "          const dataTable =\n",
       "            await google.colab.kernel.invokeFunction('convertToInteractive',\n",
       "                                                     [key], {});\n",
       "          if (!dataTable) return;\n",
       "\n",
       "          const docLinkHtml = 'Like what you see? Visit the ' +\n",
       "            '<a target=\"_blank\" href=https://colab.research.google.com/notebooks/data_table.ipynb>data table notebook</a>'\n",
       "            + ' to learn more about interactive tables.';\n",
       "          element.innerHTML = '';\n",
       "          dataTable['output_type'] = 'display_data';\n",
       "          await google.colab.output.renderOutput(dataTable, element);\n",
       "          const docLink = document.createElement('div');\n",
       "          docLink.innerHTML = docLinkHtml;\n",
       "          element.appendChild(docLink);\n",
       "        }\n",
       "      </script>\n",
       "    </div>\n",
       "  </div>\n",
       "  "
      ],
      "text/plain": [
       "                         name   genre       budget         gross\n",
       "6643       Mad Max: Fury Road  Action  150000000.0  3.756588e+08\n",
       "6644  Avengers: Age of Ultron  Action  250000000.0  1.402810e+09\n",
       "6645             Crimson Peak   Drama   55000000.0  7.467982e+07\n",
       "6646                Furious 7  Action  190000000.0  1.515341e+09\n",
       "6647        The Hateful Eight   Crime   44000000.0  1.564802e+08"
      ]
     },
     "execution_count": 29,
     "metadata": {},
     "output_type": "execute_result"
    }
   ],
   "source": [
    "budget_gross_df.head()"
   ]
  },
  {
   "cell_type": "markdown",
   "id": "opeTNdDlUzSg",
   "metadata": {
    "id": "opeTNdDlUzSg"
   },
   "source": [
    "From the year 2015 onwards: Action movies come up as highest when we compare relative budget spent and gross income from the movies. \n"
   ]
  },
  {
   "cell_type": "markdown",
   "id": "XHM3NPLzHMbS",
   "metadata": {
    "id": "XHM3NPLzHMbS"
   },
   "source": [
    "###3.4 Subset data using name,rating and ROI "
   ]
  },
  {
   "cell_type": "code",
   "execution_count": 30,
   "id": "J69w2NIoHW7z",
   "metadata": {
    "id": "J69w2NIoHW7z"
   },
   "outputs": [],
   "source": [
    "# year, score, \n",
    "year_gross_df = df[df['budget'] >= 100e6][['name','rating','ROI']]"
   ]
  },
  {
   "cell_type": "code",
   "execution_count": 31,
   "id": "I0ZjQ8F4HXz1",
   "metadata": {
    "colab": {
     "base_uri": "https://localhost:8080/",
     "height": 206
    },
    "id": "I0ZjQ8F4HXz1",
    "outputId": "2934c245-6c6d-4a64-fdd8-228cff951090"
   },
   "outputs": [
    {
     "data": {
      "text/html": [
       "\n",
       "  <div id=\"df-bc7b37d7-60ae-4d3c-bf36-6c19fb30d876\">\n",
       "    <div class=\"colab-df-container\">\n",
       "      <div>\n",
       "<style scoped>\n",
       "    .dataframe tbody tr th:only-of-type {\n",
       "        vertical-align: middle;\n",
       "    }\n",
       "\n",
       "    .dataframe tbody tr th {\n",
       "        vertical-align: top;\n",
       "    }\n",
       "\n",
       "    .dataframe thead th {\n",
       "        text-align: right;\n",
       "    }\n",
       "</style>\n",
       "<table border=\"1\" class=\"dataframe\">\n",
       "  <thead>\n",
       "    <tr style=\"text-align: right;\">\n",
       "      <th></th>\n",
       "      <th>name</th>\n",
       "      <th>rating</th>\n",
       "      <th>ROI</th>\n",
       "    </tr>\n",
       "  </thead>\n",
       "  <tbody>\n",
       "    <tr>\n",
       "      <th>1843</th>\n",
       "      <td>Terminator 2: Judgment Day</td>\n",
       "      <td>R</td>\n",
       "      <td>5.106678</td>\n",
       "    </tr>\n",
       "    <tr>\n",
       "      <th>2447</th>\n",
       "      <td>True Lies</td>\n",
       "      <td>R</td>\n",
       "      <td>3.294630</td>\n",
       "    </tr>\n",
       "    <tr>\n",
       "      <th>2652</th>\n",
       "      <td>Batman Forever</td>\n",
       "      <td>PG-13</td>\n",
       "      <td>3.365672</td>\n",
       "    </tr>\n",
       "    <tr>\n",
       "      <th>2665</th>\n",
       "      <td>Waterworld</td>\n",
       "      <td>PG-13</td>\n",
       "      <td>1.509818</td>\n",
       "    </tr>\n",
       "    <tr>\n",
       "      <th>2875</th>\n",
       "      <td>The Hunchback of Notre Dame</td>\n",
       "      <td>G</td>\n",
       "      <td>3.253389</td>\n",
       "    </tr>\n",
       "  </tbody>\n",
       "</table>\n",
       "</div>\n",
       "      <button class=\"colab-df-convert\" onclick=\"convertToInteractive('df-bc7b37d7-60ae-4d3c-bf36-6c19fb30d876')\"\n",
       "              title=\"Convert this dataframe to an interactive table.\"\n",
       "              style=\"display:none;\">\n",
       "        \n",
       "  <svg xmlns=\"http://www.w3.org/2000/svg\" height=\"24px\"viewBox=\"0 0 24 24\"\n",
       "       width=\"24px\">\n",
       "    <path d=\"M0 0h24v24H0V0z\" fill=\"none\"/>\n",
       "    <path d=\"M18.56 5.44l.94 2.06.94-2.06 2.06-.94-2.06-.94-.94-2.06-.94 2.06-2.06.94zm-11 1L8.5 8.5l.94-2.06 2.06-.94-2.06-.94L8.5 2.5l-.94 2.06-2.06.94zm10 10l.94 2.06.94-2.06 2.06-.94-2.06-.94-.94-2.06-.94 2.06-2.06.94z\"/><path d=\"M17.41 7.96l-1.37-1.37c-.4-.4-.92-.59-1.43-.59-.52 0-1.04.2-1.43.59L10.3 9.45l-7.72 7.72c-.78.78-.78 2.05 0 2.83L4 21.41c.39.39.9.59 1.41.59.51 0 1.02-.2 1.41-.59l7.78-7.78 2.81-2.81c.8-.78.8-2.07 0-2.86zM5.41 20L4 18.59l7.72-7.72 1.47 1.35L5.41 20z\"/>\n",
       "  </svg>\n",
       "      </button>\n",
       "      \n",
       "  <style>\n",
       "    .colab-df-container {\n",
       "      display:flex;\n",
       "      flex-wrap:wrap;\n",
       "      gap: 12px;\n",
       "    }\n",
       "\n",
       "    .colab-df-convert {\n",
       "      background-color: #E8F0FE;\n",
       "      border: none;\n",
       "      border-radius: 50%;\n",
       "      cursor: pointer;\n",
       "      display: none;\n",
       "      fill: #1967D2;\n",
       "      height: 32px;\n",
       "      padding: 0 0 0 0;\n",
       "      width: 32px;\n",
       "    }\n",
       "\n",
       "    .colab-df-convert:hover {\n",
       "      background-color: #E2EBFA;\n",
       "      box-shadow: 0px 1px 2px rgba(60, 64, 67, 0.3), 0px 1px 3px 1px rgba(60, 64, 67, 0.15);\n",
       "      fill: #174EA6;\n",
       "    }\n",
       "\n",
       "    [theme=dark] .colab-df-convert {\n",
       "      background-color: #3B4455;\n",
       "      fill: #D2E3FC;\n",
       "    }\n",
       "\n",
       "    [theme=dark] .colab-df-convert:hover {\n",
       "      background-color: #434B5C;\n",
       "      box-shadow: 0px 1px 3px 1px rgba(0, 0, 0, 0.15);\n",
       "      filter: drop-shadow(0px 1px 2px rgba(0, 0, 0, 0.3));\n",
       "      fill: #FFFFFF;\n",
       "    }\n",
       "  </style>\n",
       "\n",
       "      <script>\n",
       "        const buttonEl =\n",
       "          document.querySelector('#df-bc7b37d7-60ae-4d3c-bf36-6c19fb30d876 button.colab-df-convert');\n",
       "        buttonEl.style.display =\n",
       "          google.colab.kernel.accessAllowed ? 'block' : 'none';\n",
       "\n",
       "        async function convertToInteractive(key) {\n",
       "          const element = document.querySelector('#df-bc7b37d7-60ae-4d3c-bf36-6c19fb30d876');\n",
       "          const dataTable =\n",
       "            await google.colab.kernel.invokeFunction('convertToInteractive',\n",
       "                                                     [key], {});\n",
       "          if (!dataTable) return;\n",
       "\n",
       "          const docLinkHtml = 'Like what you see? Visit the ' +\n",
       "            '<a target=\"_blank\" href=https://colab.research.google.com/notebooks/data_table.ipynb>data table notebook</a>'\n",
       "            + ' to learn more about interactive tables.';\n",
       "          element.innerHTML = '';\n",
       "          dataTable['output_type'] = 'display_data';\n",
       "          await google.colab.output.renderOutput(dataTable, element);\n",
       "          const docLink = document.createElement('div');\n",
       "          docLink.innerHTML = docLinkHtml;\n",
       "          element.appendChild(docLink);\n",
       "        }\n",
       "      </script>\n",
       "    </div>\n",
       "  </div>\n",
       "  "
      ],
      "text/plain": [
       "                             name rating       ROI\n",
       "1843   Terminator 2: Judgment Day      R  5.106678\n",
       "2447                    True Lies      R  3.294630\n",
       "2652               Batman Forever  PG-13  3.365672\n",
       "2665                   Waterworld  PG-13  1.509818\n",
       "2875  The Hunchback of Notre Dame      G  3.253389"
      ]
     },
     "execution_count": 31,
     "metadata": {},
     "output_type": "execute_result"
    }
   ],
   "source": [
    "year_gross_df.head()"
   ]
  },
  {
   "cell_type": "markdown",
   "id": "1w1qs6gwVac2",
   "metadata": {
    "id": "1w1qs6gwVac2"
   },
   "source": [
    "'R' rated movies have highest Return on Investment under $1 million budget.\n"
   ]
  },
  {
   "cell_type": "markdown",
   "id": "G0uUoQ9qHawN",
   "metadata": {
    "id": "G0uUoQ9qHawN"
   },
   "source": [
    "###3.5 Subset data on the basis of decades "
   ]
  },
  {
   "cell_type": "markdown",
   "id": "G2wywdtUHhqw",
   "metadata": {
    "id": "G2wywdtUHhqw"
   },
   "source": [
    "First we will create a function to find the decade for a given year. For example, the year 1993 belongs to the decade of 1990-2000."
   ]
  },
  {
   "cell_type": "code",
   "execution_count": 32,
   "id": "hRtZmQ5bHaUv",
   "metadata": {
    "id": "hRtZmQ5bHaUv"
   },
   "outputs": [],
   "source": [
    "def get_decade(x):\n",
    "    decade = \"\"\n",
    "    \n",
    "    if x < 2000:\n",
    "        decade = \"1990-2000\"\n",
    "    elif (x >= 2000) & (x < 2010):\n",
    "        decade = \"2000-2010\"\n",
    "    else:\n",
    "        decade = \"2010-2020\"\n",
    "        \n",
    "    return decade"
   ]
  },
  {
   "cell_type": "markdown",
   "id": "F7lNJpbMHnIx",
   "metadata": {
    "id": "F7lNJpbMHnIx"
   },
   "source": [
    "Next we will use the function get_decade() to create a new variable of decades."
   ]
  },
  {
   "cell_type": "code",
   "execution_count": 33,
   "id": "1OqV12QMHmVn",
   "metadata": {
    "id": "1OqV12QMHmVn"
   },
   "outputs": [],
   "source": [
    "df['decade'] = [get_decade(i) for i in df['year']]"
   ]
  },
  {
   "cell_type": "markdown",
   "id": "RErtGbAYHtLN",
   "metadata": {
    "id": "RErtGbAYHtLN"
   },
   "source": [
    "Check count of movies in each decade:"
   ]
  },
  {
   "cell_type": "code",
   "execution_count": 34,
   "id": "QcP9NBk0Hvk4",
   "metadata": {
    "colab": {
     "base_uri": "https://localhost:8080/"
    },
    "id": "QcP9NBk0Hvk4",
    "outputId": "d4bcb813-5be5-4823-bdde-9cec78e7093e"
   },
   "outputs": [
    {
     "data": {
      "text/plain": [
       "2000-2010    1648\n",
       "2010-2020    1521\n",
       "1990-2000    1364\n",
       "Name: decade, dtype: int64"
      ]
     },
     "execution_count": 34,
     "metadata": {},
     "output_type": "execute_result"
    }
   ],
   "source": [
    "df['decade'].value_counts()"
   ]
  },
  {
   "cell_type": "markdown",
   "id": "9oNo_MMwHwnj",
   "metadata": {
    "id": "9oNo_MMwHwnj"
   },
   "source": [
    "Let's aggregate budget, gross collection, return on investment and score by decade."
   ]
  },
  {
   "cell_type": "code",
   "execution_count": 35,
   "id": "zU1k9X1VHzBD",
   "metadata": {
    "id": "zU1k9X1VHzBD"
   },
   "outputs": [],
   "source": [
    "decade_df = df[['decade', 'budget', 'gross', 'ROI', 'score']].groupby('decade').median().reset_index()"
   ]
  },
  {
   "cell_type": "code",
   "execution_count": 36,
   "id": "eht25yIDH1K_",
   "metadata": {
    "colab": {
     "base_uri": "https://localhost:8080/",
     "height": 143
    },
    "id": "eht25yIDH1K_",
    "outputId": "ef5b7f00-b0a9-492a-edfe-2f1ad39e0f47"
   },
   "outputs": [
    {
     "data": {
      "text/html": [
       "\n",
       "  <div id=\"df-5d8c3b0e-f425-4b04-9fe9-1f4641662cf9\">\n",
       "    <div class=\"colab-df-container\">\n",
       "      <div>\n",
       "<style scoped>\n",
       "    .dataframe tbody tr th:only-of-type {\n",
       "        vertical-align: middle;\n",
       "    }\n",
       "\n",
       "    .dataframe tbody tr th {\n",
       "        vertical-align: top;\n",
       "    }\n",
       "\n",
       "    .dataframe thead th {\n",
       "        text-align: right;\n",
       "    }\n",
       "</style>\n",
       "<table border=\"1\" class=\"dataframe\">\n",
       "  <thead>\n",
       "    <tr style=\"text-align: right;\">\n",
       "      <th></th>\n",
       "      <th>decade</th>\n",
       "      <th>budget</th>\n",
       "      <th>gross</th>\n",
       "      <th>ROI</th>\n",
       "      <th>score</th>\n",
       "    </tr>\n",
       "  </thead>\n",
       "  <tbody>\n",
       "    <tr>\n",
       "      <th>0</th>\n",
       "      <td>1990-2000</td>\n",
       "      <td>20000000.0</td>\n",
       "      <td>19984659.5</td>\n",
       "      <td>1.153557</td>\n",
       "      <td>6.5</td>\n",
       "    </tr>\n",
       "    <tr>\n",
       "      <th>1</th>\n",
       "      <td>2000-2010</td>\n",
       "      <td>30000000.0</td>\n",
       "      <td>53829087.0</td>\n",
       "      <td>1.881653</td>\n",
       "      <td>6.4</td>\n",
       "    </tr>\n",
       "    <tr>\n",
       "      <th>2</th>\n",
       "      <td>2010-2020</td>\n",
       "      <td>30000000.0</td>\n",
       "      <td>75339459.0</td>\n",
       "      <td>2.547199</td>\n",
       "      <td>6.5</td>\n",
       "    </tr>\n",
       "  </tbody>\n",
       "</table>\n",
       "</div>\n",
       "      <button class=\"colab-df-convert\" onclick=\"convertToInteractive('df-5d8c3b0e-f425-4b04-9fe9-1f4641662cf9')\"\n",
       "              title=\"Convert this dataframe to an interactive table.\"\n",
       "              style=\"display:none;\">\n",
       "        \n",
       "  <svg xmlns=\"http://www.w3.org/2000/svg\" height=\"24px\"viewBox=\"0 0 24 24\"\n",
       "       width=\"24px\">\n",
       "    <path d=\"M0 0h24v24H0V0z\" fill=\"none\"/>\n",
       "    <path d=\"M18.56 5.44l.94 2.06.94-2.06 2.06-.94-2.06-.94-.94-2.06-.94 2.06-2.06.94zm-11 1L8.5 8.5l.94-2.06 2.06-.94-2.06-.94L8.5 2.5l-.94 2.06-2.06.94zm10 10l.94 2.06.94-2.06 2.06-.94-2.06-.94-.94-2.06-.94 2.06-2.06.94z\"/><path d=\"M17.41 7.96l-1.37-1.37c-.4-.4-.92-.59-1.43-.59-.52 0-1.04.2-1.43.59L10.3 9.45l-7.72 7.72c-.78.78-.78 2.05 0 2.83L4 21.41c.39.39.9.59 1.41.59.51 0 1.02-.2 1.41-.59l7.78-7.78 2.81-2.81c.8-.78.8-2.07 0-2.86zM5.41 20L4 18.59l7.72-7.72 1.47 1.35L5.41 20z\"/>\n",
       "  </svg>\n",
       "      </button>\n",
       "      \n",
       "  <style>\n",
       "    .colab-df-container {\n",
       "      display:flex;\n",
       "      flex-wrap:wrap;\n",
       "      gap: 12px;\n",
       "    }\n",
       "\n",
       "    .colab-df-convert {\n",
       "      background-color: #E8F0FE;\n",
       "      border: none;\n",
       "      border-radius: 50%;\n",
       "      cursor: pointer;\n",
       "      display: none;\n",
       "      fill: #1967D2;\n",
       "      height: 32px;\n",
       "      padding: 0 0 0 0;\n",
       "      width: 32px;\n",
       "    }\n",
       "\n",
       "    .colab-df-convert:hover {\n",
       "      background-color: #E2EBFA;\n",
       "      box-shadow: 0px 1px 2px rgba(60, 64, 67, 0.3), 0px 1px 3px 1px rgba(60, 64, 67, 0.15);\n",
       "      fill: #174EA6;\n",
       "    }\n",
       "\n",
       "    [theme=dark] .colab-df-convert {\n",
       "      background-color: #3B4455;\n",
       "      fill: #D2E3FC;\n",
       "    }\n",
       "\n",
       "    [theme=dark] .colab-df-convert:hover {\n",
       "      background-color: #434B5C;\n",
       "      box-shadow: 0px 1px 3px 1px rgba(0, 0, 0, 0.15);\n",
       "      filter: drop-shadow(0px 1px 2px rgba(0, 0, 0, 0.3));\n",
       "      fill: #FFFFFF;\n",
       "    }\n",
       "  </style>\n",
       "\n",
       "      <script>\n",
       "        const buttonEl =\n",
       "          document.querySelector('#df-5d8c3b0e-f425-4b04-9fe9-1f4641662cf9 button.colab-df-convert');\n",
       "        buttonEl.style.display =\n",
       "          google.colab.kernel.accessAllowed ? 'block' : 'none';\n",
       "\n",
       "        async function convertToInteractive(key) {\n",
       "          const element = document.querySelector('#df-5d8c3b0e-f425-4b04-9fe9-1f4641662cf9');\n",
       "          const dataTable =\n",
       "            await google.colab.kernel.invokeFunction('convertToInteractive',\n",
       "                                                     [key], {});\n",
       "          if (!dataTable) return;\n",
       "\n",
       "          const docLinkHtml = 'Like what you see? Visit the ' +\n",
       "            '<a target=\"_blank\" href=https://colab.research.google.com/notebooks/data_table.ipynb>data table notebook</a>'\n",
       "            + ' to learn more about interactive tables.';\n",
       "          element.innerHTML = '';\n",
       "          dataTable['output_type'] = 'display_data';\n",
       "          await google.colab.output.renderOutput(dataTable, element);\n",
       "          const docLink = document.createElement('div');\n",
       "          docLink.innerHTML = docLinkHtml;\n",
       "          element.appendChild(docLink);\n",
       "        }\n",
       "      </script>\n",
       "    </div>\n",
       "  </div>\n",
       "  "
      ],
      "text/plain": [
       "      decade      budget       gross       ROI  score\n",
       "0  1990-2000  20000000.0  19984659.5  1.153557    6.5\n",
       "1  2000-2010  30000000.0  53829087.0  1.881653    6.4\n",
       "2  2010-2020  30000000.0  75339459.0  2.547199    6.5"
      ]
     },
     "execution_count": 36,
     "metadata": {},
     "output_type": "execute_result"
    }
   ],
   "source": [
    "decade_df"
   ]
  },
  {
   "cell_type": "markdown",
   "id": "D-ibKSTEH4oq",
   "metadata": {
    "id": "D-ibKSTEH4oq"
   },
   "source": [
    "We can see that the median budget in the last two decades are similar, but still there is a huge jump in the gross collection in the last decade. The ROI has also improved quite significantly.\n",
    "\n"
   ]
  },
  {
   "cell_type": "markdown",
   "id": "752c4490",
   "metadata": {
    "id": "752c4490"
   },
   "source": [
    "# 4. Data Visualization"
   ]
  },
  {
   "cell_type": "markdown",
   "id": "7c731060",
   "metadata": {
    "id": "7c731060"
   },
   "source": [
    "### 4.1 Heatmap of ROI\n",
    "\n",
    "We will create a heatmap of ROI with respect to directors and genres. \n",
    "\n",
    "To create such heatmap, we will have to create a matrix or array that will have directors as rows and genres as columns. The values of this matrix will have average values of ROI ratios."
   ]
  },
  {
   "cell_type": "code",
   "execution_count": 37,
   "id": "430ffb56",
   "metadata": {
    "id": "430ffb56"
   },
   "outputs": [],
   "source": [
    "roi_df = pd.pivot_table(director_df, \n",
    "                        values ='ROI', \n",
    "                        index=['director'], \n",
    "                        columns='genre', \n",
    "                        aggfunc= np.mean)"
   ]
  },
  {
   "cell_type": "code",
   "execution_count": 38,
   "id": "cfbdb8f2",
   "metadata": {
    "colab": {
     "base_uri": "https://localhost:8080/",
     "height": 238
    },
    "id": "cfbdb8f2",
    "outputId": "7af2308e-809c-4222-e86f-0f41a56e7074"
   },
   "outputs": [
    {
     "data": {
      "text/html": [
       "\n",
       "  <div id=\"df-c5952c1a-f73f-4092-a557-497668315f89\">\n",
       "    <div class=\"colab-df-container\">\n",
       "      <div>\n",
       "<style scoped>\n",
       "    .dataframe tbody tr th:only-of-type {\n",
       "        vertical-align: middle;\n",
       "    }\n",
       "\n",
       "    .dataframe tbody tr th {\n",
       "        vertical-align: top;\n",
       "    }\n",
       "\n",
       "    .dataframe thead th {\n",
       "        text-align: right;\n",
       "    }\n",
       "</style>\n",
       "<table border=\"1\" class=\"dataframe\">\n",
       "  <thead>\n",
       "    <tr style=\"text-align: right;\">\n",
       "      <th>genre</th>\n",
       "      <th>Action</th>\n",
       "      <th>Adventure</th>\n",
       "      <th>Animation</th>\n",
       "      <th>Biography</th>\n",
       "      <th>Comedy</th>\n",
       "      <th>Family</th>\n",
       "    </tr>\n",
       "    <tr>\n",
       "      <th>director</th>\n",
       "      <th></th>\n",
       "      <th></th>\n",
       "      <th></th>\n",
       "      <th></th>\n",
       "      <th></th>\n",
       "      <th></th>\n",
       "    </tr>\n",
       "  </thead>\n",
       "  <tbody>\n",
       "    <tr>\n",
       "      <th>Alex Kurtzman</th>\n",
       "      <td>3.273853</td>\n",
       "      <td>NaN</td>\n",
       "      <td>NaN</td>\n",
       "      <td>NaN</td>\n",
       "      <td>NaN</td>\n",
       "      <td>NaN</td>\n",
       "    </tr>\n",
       "    <tr>\n",
       "      <th>Ang Lee</th>\n",
       "      <td>1.257025</td>\n",
       "      <td>NaN</td>\n",
       "      <td>NaN</td>\n",
       "      <td>NaN</td>\n",
       "      <td>NaN</td>\n",
       "      <td>NaN</td>\n",
       "    </tr>\n",
       "    <tr>\n",
       "      <th>Anna Boden</th>\n",
       "      <td>7.052894</td>\n",
       "      <td>NaN</td>\n",
       "      <td>NaN</td>\n",
       "      <td>NaN</td>\n",
       "      <td>NaN</td>\n",
       "      <td>NaN</td>\n",
       "    </tr>\n",
       "    <tr>\n",
       "      <th>Anthony Russo</th>\n",
       "      <td>7.119666</td>\n",
       "      <td>NaN</td>\n",
       "      <td>NaN</td>\n",
       "      <td>NaN</td>\n",
       "      <td>NaN</td>\n",
       "      <td>NaN</td>\n",
       "    </tr>\n",
       "    <tr>\n",
       "      <th>Ava DuVernay</th>\n",
       "      <td>NaN</td>\n",
       "      <td>1.326759</td>\n",
       "      <td>NaN</td>\n",
       "      <td>NaN</td>\n",
       "      <td>NaN</td>\n",
       "      <td>NaN</td>\n",
       "    </tr>\n",
       "  </tbody>\n",
       "</table>\n",
       "</div>\n",
       "      <button class=\"colab-df-convert\" onclick=\"convertToInteractive('df-c5952c1a-f73f-4092-a557-497668315f89')\"\n",
       "              title=\"Convert this dataframe to an interactive table.\"\n",
       "              style=\"display:none;\">\n",
       "        \n",
       "  <svg xmlns=\"http://www.w3.org/2000/svg\" height=\"24px\"viewBox=\"0 0 24 24\"\n",
       "       width=\"24px\">\n",
       "    <path d=\"M0 0h24v24H0V0z\" fill=\"none\"/>\n",
       "    <path d=\"M18.56 5.44l.94 2.06.94-2.06 2.06-.94-2.06-.94-.94-2.06-.94 2.06-2.06.94zm-11 1L8.5 8.5l.94-2.06 2.06-.94-2.06-.94L8.5 2.5l-.94 2.06-2.06.94zm10 10l.94 2.06.94-2.06 2.06-.94-2.06-.94-.94-2.06-.94 2.06-2.06.94z\"/><path d=\"M17.41 7.96l-1.37-1.37c-.4-.4-.92-.59-1.43-.59-.52 0-1.04.2-1.43.59L10.3 9.45l-7.72 7.72c-.78.78-.78 2.05 0 2.83L4 21.41c.39.39.9.59 1.41.59.51 0 1.02-.2 1.41-.59l7.78-7.78 2.81-2.81c.8-.78.8-2.07 0-2.86zM5.41 20L4 18.59l7.72-7.72 1.47 1.35L5.41 20z\"/>\n",
       "  </svg>\n",
       "      </button>\n",
       "      \n",
       "  <style>\n",
       "    .colab-df-container {\n",
       "      display:flex;\n",
       "      flex-wrap:wrap;\n",
       "      gap: 12px;\n",
       "    }\n",
       "\n",
       "    .colab-df-convert {\n",
       "      background-color: #E8F0FE;\n",
       "      border: none;\n",
       "      border-radius: 50%;\n",
       "      cursor: pointer;\n",
       "      display: none;\n",
       "      fill: #1967D2;\n",
       "      height: 32px;\n",
       "      padding: 0 0 0 0;\n",
       "      width: 32px;\n",
       "    }\n",
       "\n",
       "    .colab-df-convert:hover {\n",
       "      background-color: #E2EBFA;\n",
       "      box-shadow: 0px 1px 2px rgba(60, 64, 67, 0.3), 0px 1px 3px 1px rgba(60, 64, 67, 0.15);\n",
       "      fill: #174EA6;\n",
       "    }\n",
       "\n",
       "    [theme=dark] .colab-df-convert {\n",
       "      background-color: #3B4455;\n",
       "      fill: #D2E3FC;\n",
       "    }\n",
       "\n",
       "    [theme=dark] .colab-df-convert:hover {\n",
       "      background-color: #434B5C;\n",
       "      box-shadow: 0px 1px 3px 1px rgba(0, 0, 0, 0.15);\n",
       "      filter: drop-shadow(0px 1px 2px rgba(0, 0, 0, 0.3));\n",
       "      fill: #FFFFFF;\n",
       "    }\n",
       "  </style>\n",
       "\n",
       "      <script>\n",
       "        const buttonEl =\n",
       "          document.querySelector('#df-c5952c1a-f73f-4092-a557-497668315f89 button.colab-df-convert');\n",
       "        buttonEl.style.display =\n",
       "          google.colab.kernel.accessAllowed ? 'block' : 'none';\n",
       "\n",
       "        async function convertToInteractive(key) {\n",
       "          const element = document.querySelector('#df-c5952c1a-f73f-4092-a557-497668315f89');\n",
       "          const dataTable =\n",
       "            await google.colab.kernel.invokeFunction('convertToInteractive',\n",
       "                                                     [key], {});\n",
       "          if (!dataTable) return;\n",
       "\n",
       "          const docLinkHtml = 'Like what you see? Visit the ' +\n",
       "            '<a target=\"_blank\" href=https://colab.research.google.com/notebooks/data_table.ipynb>data table notebook</a>'\n",
       "            + ' to learn more about interactive tables.';\n",
       "          element.innerHTML = '';\n",
       "          dataTable['output_type'] = 'display_data';\n",
       "          await google.colab.output.renderOutput(dataTable, element);\n",
       "          const docLink = document.createElement('div');\n",
       "          docLink.innerHTML = docLinkHtml;\n",
       "          element.appendChild(docLink);\n",
       "        }\n",
       "      </script>\n",
       "    </div>\n",
       "  </div>\n",
       "  "
      ],
      "text/plain": [
       "genre            Action  Adventure  Animation  Biography  Comedy  Family\n",
       "director                                                                \n",
       "Alex Kurtzman  3.273853        NaN        NaN        NaN     NaN     NaN\n",
       "Ang Lee        1.257025        NaN        NaN        NaN     NaN     NaN\n",
       "Anna Boden     7.052894        NaN        NaN        NaN     NaN     NaN\n",
       "Anthony Russo  7.119666        NaN        NaN        NaN     NaN     NaN\n",
       "Ava DuVernay        NaN   1.326759        NaN        NaN     NaN     NaN"
      ]
     },
     "execution_count": 38,
     "metadata": {},
     "output_type": "execute_result"
    }
   ],
   "source": [
    "roi_df.head()"
   ]
  },
  {
   "cell_type": "markdown",
   "id": "f43862ec",
   "metadata": {
    "id": "f43862ec"
   },
   "source": [
    "Many combinations of director-genre will have no value and that is why NaN are appearing in those positions. We will simply replace them with zeros."
   ]
  },
  {
   "cell_type": "code",
   "execution_count": 39,
   "id": "cabd81e0",
   "metadata": {
    "id": "cabd81e0"
   },
   "outputs": [],
   "source": [
    "# replace missing data with zero\n",
    "roi_df = roi_df.fillna(0)"
   ]
  },
  {
   "cell_type": "code",
   "execution_count": 40,
   "id": "d81ae037",
   "metadata": {
    "colab": {
     "base_uri": "https://localhost:8080/",
     "height": 238
    },
    "id": "d81ae037",
    "outputId": "8e632da9-4f56-428c-b661-497a3e73386f"
   },
   "outputs": [
    {
     "data": {
      "text/html": [
       "\n",
       "  <div id=\"df-3cce629f-95d4-4cd4-acc3-d9e48cd272ce\">\n",
       "    <div class=\"colab-df-container\">\n",
       "      <div>\n",
       "<style scoped>\n",
       "    .dataframe tbody tr th:only-of-type {\n",
       "        vertical-align: middle;\n",
       "    }\n",
       "\n",
       "    .dataframe tbody tr th {\n",
       "        vertical-align: top;\n",
       "    }\n",
       "\n",
       "    .dataframe thead th {\n",
       "        text-align: right;\n",
       "    }\n",
       "</style>\n",
       "<table border=\"1\" class=\"dataframe\">\n",
       "  <thead>\n",
       "    <tr style=\"text-align: right;\">\n",
       "      <th>genre</th>\n",
       "      <th>Action</th>\n",
       "      <th>Adventure</th>\n",
       "      <th>Animation</th>\n",
       "      <th>Biography</th>\n",
       "      <th>Comedy</th>\n",
       "      <th>Family</th>\n",
       "    </tr>\n",
       "    <tr>\n",
       "      <th>director</th>\n",
       "      <th></th>\n",
       "      <th></th>\n",
       "      <th></th>\n",
       "      <th></th>\n",
       "      <th></th>\n",
       "      <th></th>\n",
       "    </tr>\n",
       "  </thead>\n",
       "  <tbody>\n",
       "    <tr>\n",
       "      <th>Alex Kurtzman</th>\n",
       "      <td>3.273853</td>\n",
       "      <td>0.000000</td>\n",
       "      <td>0.0</td>\n",
       "      <td>0.0</td>\n",
       "      <td>0.0</td>\n",
       "      <td>0.0</td>\n",
       "    </tr>\n",
       "    <tr>\n",
       "      <th>Ang Lee</th>\n",
       "      <td>1.257025</td>\n",
       "      <td>0.000000</td>\n",
       "      <td>0.0</td>\n",
       "      <td>0.0</td>\n",
       "      <td>0.0</td>\n",
       "      <td>0.0</td>\n",
       "    </tr>\n",
       "    <tr>\n",
       "      <th>Anna Boden</th>\n",
       "      <td>7.052894</td>\n",
       "      <td>0.000000</td>\n",
       "      <td>0.0</td>\n",
       "      <td>0.0</td>\n",
       "      <td>0.0</td>\n",
       "      <td>0.0</td>\n",
       "    </tr>\n",
       "    <tr>\n",
       "      <th>Anthony Russo</th>\n",
       "      <td>7.119666</td>\n",
       "      <td>0.000000</td>\n",
       "      <td>0.0</td>\n",
       "      <td>0.0</td>\n",
       "      <td>0.0</td>\n",
       "      <td>0.0</td>\n",
       "    </tr>\n",
       "    <tr>\n",
       "      <th>Ava DuVernay</th>\n",
       "      <td>0.000000</td>\n",
       "      <td>1.326759</td>\n",
       "      <td>0.0</td>\n",
       "      <td>0.0</td>\n",
       "      <td>0.0</td>\n",
       "      <td>0.0</td>\n",
       "    </tr>\n",
       "  </tbody>\n",
       "</table>\n",
       "</div>\n",
       "      <button class=\"colab-df-convert\" onclick=\"convertToInteractive('df-3cce629f-95d4-4cd4-acc3-d9e48cd272ce')\"\n",
       "              title=\"Convert this dataframe to an interactive table.\"\n",
       "              style=\"display:none;\">\n",
       "        \n",
       "  <svg xmlns=\"http://www.w3.org/2000/svg\" height=\"24px\"viewBox=\"0 0 24 24\"\n",
       "       width=\"24px\">\n",
       "    <path d=\"M0 0h24v24H0V0z\" fill=\"none\"/>\n",
       "    <path d=\"M18.56 5.44l.94 2.06.94-2.06 2.06-.94-2.06-.94-.94-2.06-.94 2.06-2.06.94zm-11 1L8.5 8.5l.94-2.06 2.06-.94-2.06-.94L8.5 2.5l-.94 2.06-2.06.94zm10 10l.94 2.06.94-2.06 2.06-.94-2.06-.94-.94-2.06-.94 2.06-2.06.94z\"/><path d=\"M17.41 7.96l-1.37-1.37c-.4-.4-.92-.59-1.43-.59-.52 0-1.04.2-1.43.59L10.3 9.45l-7.72 7.72c-.78.78-.78 2.05 0 2.83L4 21.41c.39.39.9.59 1.41.59.51 0 1.02-.2 1.41-.59l7.78-7.78 2.81-2.81c.8-.78.8-2.07 0-2.86zM5.41 20L4 18.59l7.72-7.72 1.47 1.35L5.41 20z\"/>\n",
       "  </svg>\n",
       "      </button>\n",
       "      \n",
       "  <style>\n",
       "    .colab-df-container {\n",
       "      display:flex;\n",
       "      flex-wrap:wrap;\n",
       "      gap: 12px;\n",
       "    }\n",
       "\n",
       "    .colab-df-convert {\n",
       "      background-color: #E8F0FE;\n",
       "      border: none;\n",
       "      border-radius: 50%;\n",
       "      cursor: pointer;\n",
       "      display: none;\n",
       "      fill: #1967D2;\n",
       "      height: 32px;\n",
       "      padding: 0 0 0 0;\n",
       "      width: 32px;\n",
       "    }\n",
       "\n",
       "    .colab-df-convert:hover {\n",
       "      background-color: #E2EBFA;\n",
       "      box-shadow: 0px 1px 2px rgba(60, 64, 67, 0.3), 0px 1px 3px 1px rgba(60, 64, 67, 0.15);\n",
       "      fill: #174EA6;\n",
       "    }\n",
       "\n",
       "    [theme=dark] .colab-df-convert {\n",
       "      background-color: #3B4455;\n",
       "      fill: #D2E3FC;\n",
       "    }\n",
       "\n",
       "    [theme=dark] .colab-df-convert:hover {\n",
       "      background-color: #434B5C;\n",
       "      box-shadow: 0px 1px 3px 1px rgba(0, 0, 0, 0.15);\n",
       "      filter: drop-shadow(0px 1px 2px rgba(0, 0, 0, 0.3));\n",
       "      fill: #FFFFFF;\n",
       "    }\n",
       "  </style>\n",
       "\n",
       "      <script>\n",
       "        const buttonEl =\n",
       "          document.querySelector('#df-3cce629f-95d4-4cd4-acc3-d9e48cd272ce button.colab-df-convert');\n",
       "        buttonEl.style.display =\n",
       "          google.colab.kernel.accessAllowed ? 'block' : 'none';\n",
       "\n",
       "        async function convertToInteractive(key) {\n",
       "          const element = document.querySelector('#df-3cce629f-95d4-4cd4-acc3-d9e48cd272ce');\n",
       "          const dataTable =\n",
       "            await google.colab.kernel.invokeFunction('convertToInteractive',\n",
       "                                                     [key], {});\n",
       "          if (!dataTable) return;\n",
       "\n",
       "          const docLinkHtml = 'Like what you see? Visit the ' +\n",
       "            '<a target=\"_blank\" href=https://colab.research.google.com/notebooks/data_table.ipynb>data table notebook</a>'\n",
       "            + ' to learn more about interactive tables.';\n",
       "          element.innerHTML = '';\n",
       "          dataTable['output_type'] = 'display_data';\n",
       "          await google.colab.output.renderOutput(dataTable, element);\n",
       "          const docLink = document.createElement('div');\n",
       "          docLink.innerHTML = docLinkHtml;\n",
       "          element.appendChild(docLink);\n",
       "        }\n",
       "      </script>\n",
       "    </div>\n",
       "  </div>\n",
       "  "
      ],
      "text/plain": [
       "genre            Action  Adventure  Animation  Biography  Comedy  Family\n",
       "director                                                                \n",
       "Alex Kurtzman  3.273853   0.000000        0.0        0.0     0.0     0.0\n",
       "Ang Lee        1.257025   0.000000        0.0        0.0     0.0     0.0\n",
       "Anna Boden     7.052894   0.000000        0.0        0.0     0.0     0.0\n",
       "Anthony Russo  7.119666   0.000000        0.0        0.0     0.0     0.0\n",
       "Ava DuVernay   0.000000   1.326759        0.0        0.0     0.0     0.0"
      ]
     },
     "execution_count": 40,
     "metadata": {},
     "output_type": "execute_result"
    }
   ],
   "source": [
    "roi_df.head()"
   ]
  },
  {
   "cell_type": "markdown",
   "id": "80d40118",
   "metadata": {
    "id": "80d40118"
   },
   "source": [
    "Let's plot heatmap of ROI."
   ]
  },
  {
   "cell_type": "code",
   "execution_count": 41,
   "id": "18b3d730",
   "metadata": {
    "colab": {
     "base_uri": "https://localhost:8080/",
     "height": 1000
    },
    "id": "18b3d730",
    "outputId": "44c09cc8-cc48-4b71-daa5-3d9bc1a55a18"
   },
   "outputs": [
    {
     "data": {
      "image/png": "[encoded data removed]",
      "text/plain": [
       "<Figure size 720x1440 with 1 Axes>"
      ]
     },
     "metadata": {
      "needs_background": "light"
     },
     "output_type": "display_data"
    }
   ],
   "source": [
    "# heatmap\n",
    "plt.figure(figsize=(10,20))\n",
    "sns.heatmap(roi_df, annot=roi_df, cmap=\"YlGn\", cbar=False, linewidths=1)\n",
    "plt.show()"
   ]
  },
  {
   "cell_type": "markdown",
   "id": "4f7c6923",
   "metadata": {
    "id": "4f7c6923"
   },
   "source": [
    "In the heatmap above, the darker the color of the cell the higher is the average return on investment for that director-genre combination. This chart can help us find out which director is most profitable in which genre."
   ]
  },
  {
   "cell_type": "markdown",
   "id": "b97ae3e2",
   "metadata": {
    "id": "b97ae3e2"
   },
   "source": [
    "### 4.2 Heatmap of Scores"
   ]
  },
  {
   "cell_type": "markdown",
   "id": "c140ff7a",
   "metadata": {
    "id": "c140ff7a"
   },
   "source": [
    "Similar to the previous heatmap, this time we will create another heatmap of movie scores, given by the viewers, with repect to directors and genres."
   ]
  },
  {
   "cell_type": "code",
   "execution_count": 42,
   "id": "36c4039a",
   "metadata": {
    "id": "36c4039a"
   },
   "outputs": [],
   "source": [
    "score_df = pd.pivot_table(director_df, \n",
    "                          values ='score', \n",
    "                          index=['director'], \n",
    "                          columns='genre', \n",
    "                          aggfunc= np.mean)"
   ]
  },
  {
   "cell_type": "code",
   "execution_count": 43,
   "id": "1e98776b",
   "metadata": {
    "colab": {
     "base_uri": "https://localhost:8080/",
     "height": 238
    },
    "id": "1e98776b",
    "outputId": "b9f2b5b4-bc71-4b86-dfcd-0db94c62f112"
   },
   "outputs": [
    {
     "data": {
      "text/html": [
       "\n",
       "  <div id=\"df-b90cb768-37d0-439b-9da2-0e66b5d9062d\">\n",
       "    <div class=\"colab-df-container\">\n",
       "      <div>\n",
       "<style scoped>\n",
       "    .dataframe tbody tr th:only-of-type {\n",
       "        vertical-align: middle;\n",
       "    }\n",
       "\n",
       "    .dataframe tbody tr th {\n",
       "        vertical-align: top;\n",
       "    }\n",
       "\n",
       "    .dataframe thead th {\n",
       "        text-align: right;\n",
       "    }\n",
       "</style>\n",
       "<table border=\"1\" class=\"dataframe\">\n",
       "  <thead>\n",
       "    <tr style=\"text-align: right;\">\n",
       "      <th>genre</th>\n",
       "      <th>Action</th>\n",
       "      <th>Adventure</th>\n",
       "      <th>Animation</th>\n",
       "      <th>Biography</th>\n",
       "      <th>Comedy</th>\n",
       "      <th>Family</th>\n",
       "    </tr>\n",
       "    <tr>\n",
       "      <th>director</th>\n",
       "      <th></th>\n",
       "      <th></th>\n",
       "      <th></th>\n",
       "      <th></th>\n",
       "      <th></th>\n",
       "      <th></th>\n",
       "    </tr>\n",
       "  </thead>\n",
       "  <tbody>\n",
       "    <tr>\n",
       "      <th>Alex Kurtzman</th>\n",
       "      <td>5.4</td>\n",
       "      <td>NaN</td>\n",
       "      <td>NaN</td>\n",
       "      <td>NaN</td>\n",
       "      <td>NaN</td>\n",
       "      <td>NaN</td>\n",
       "    </tr>\n",
       "    <tr>\n",
       "      <th>Ang Lee</th>\n",
       "      <td>5.7</td>\n",
       "      <td>NaN</td>\n",
       "      <td>NaN</td>\n",
       "      <td>NaN</td>\n",
       "      <td>NaN</td>\n",
       "      <td>NaN</td>\n",
       "    </tr>\n",
       "    <tr>\n",
       "      <th>Anna Boden</th>\n",
       "      <td>6.8</td>\n",
       "      <td>NaN</td>\n",
       "      <td>NaN</td>\n",
       "      <td>NaN</td>\n",
       "      <td>NaN</td>\n",
       "      <td>NaN</td>\n",
       "    </tr>\n",
       "    <tr>\n",
       "      <th>Anthony Russo</th>\n",
       "      <td>8.4</td>\n",
       "      <td>NaN</td>\n",
       "      <td>NaN</td>\n",
       "      <td>NaN</td>\n",
       "      <td>NaN</td>\n",
       "      <td>NaN</td>\n",
       "    </tr>\n",
       "    <tr>\n",
       "      <th>Ava DuVernay</th>\n",
       "      <td>NaN</td>\n",
       "      <td>4.2</td>\n",
       "      <td>NaN</td>\n",
       "      <td>NaN</td>\n",
       "      <td>NaN</td>\n",
       "      <td>NaN</td>\n",
       "    </tr>\n",
       "  </tbody>\n",
       "</table>\n",
       "</div>\n",
       "      <button class=\"colab-df-convert\" onclick=\"convertToInteractive('df-b90cb768-37d0-439b-9da2-0e66b5d9062d')\"\n",
       "              title=\"Convert this dataframe to an interactive table.\"\n",
       "              style=\"display:none;\">\n",
       "        \n",
       "  <svg xmlns=\"http://www.w3.org/2000/svg\" height=\"24px\"viewBox=\"0 0 24 24\"\n",
       "       width=\"24px\">\n",
       "    <path d=\"M0 0h24v24H0V0z\" fill=\"none\"/>\n",
       "    <path d=\"M18.56 5.44l.94 2.06.94-2.06 2.06-.94-2.06-.94-.94-2.06-.94 2.06-2.06.94zm-11 1L8.5 8.5l.94-2.06 2.06-.94-2.06-.94L8.5 2.5l-.94 2.06-2.06.94zm10 10l.94 2.06.94-2.06 2.06-.94-2.06-.94-.94-2.06-.94 2.06-2.06.94z\"/><path d=\"M17.41 7.96l-1.37-1.37c-.4-.4-.92-.59-1.43-.59-.52 0-1.04.2-1.43.59L10.3 9.45l-7.72 7.72c-.78.78-.78 2.05 0 2.83L4 21.41c.39.39.9.59 1.41.59.51 0 1.02-.2 1.41-.59l7.78-7.78 2.81-2.81c.8-.78.8-2.07 0-2.86zM5.41 20L4 18.59l7.72-7.72 1.47 1.35L5.41 20z\"/>\n",
       "  </svg>\n",
       "      </button>\n",
       "      \n",
       "  <style>\n",
       "    .colab-df-container {\n",
       "      display:flex;\n",
       "      flex-wrap:wrap;\n",
       "      gap: 12px;\n",
       "    }\n",
       "\n",
       "    .colab-df-convert {\n",
       "      background-color: #E8F0FE;\n",
       "      border: none;\n",
       "      border-radius: 50%;\n",
       "      cursor: pointer;\n",
       "      display: none;\n",
       "      fill: #1967D2;\n",
       "      height: 32px;\n",
       "      padding: 0 0 0 0;\n",
       "      width: 32px;\n",
       "    }\n",
       "\n",
       "    .colab-df-convert:hover {\n",
       "      background-color: #E2EBFA;\n",
       "      box-shadow: 0px 1px 2px rgba(60, 64, 67, 0.3), 0px 1px 3px 1px rgba(60, 64, 67, 0.15);\n",
       "      fill: #174EA6;\n",
       "    }\n",
       "\n",
       "    [theme=dark] .colab-df-convert {\n",
       "      background-color: #3B4455;\n",
       "      fill: #D2E3FC;\n",
       "    }\n",
       "\n",
       "    [theme=dark] .colab-df-convert:hover {\n",
       "      background-color: #434B5C;\n",
       "      box-shadow: 0px 1px 3px 1px rgba(0, 0, 0, 0.15);\n",
       "      filter: drop-shadow(0px 1px 2px rgba(0, 0, 0, 0.3));\n",
       "      fill: #FFFFFF;\n",
       "    }\n",
       "  </style>\n",
       "\n",
       "      <script>\n",
       "        const buttonEl =\n",
       "          document.querySelector('#df-b90cb768-37d0-439b-9da2-0e66b5d9062d button.colab-df-convert');\n",
       "        buttonEl.style.display =\n",
       "          google.colab.kernel.accessAllowed ? 'block' : 'none';\n",
       "\n",
       "        async function convertToInteractive(key) {\n",
       "          const element = document.querySelector('#df-b90cb768-37d0-439b-9da2-0e66b5d9062d');\n",
       "          const dataTable =\n",
       "            await google.colab.kernel.invokeFunction('convertToInteractive',\n",
       "                                                     [key], {});\n",
       "          if (!dataTable) return;\n",
       "\n",
       "          const docLinkHtml = 'Like what you see? Visit the ' +\n",
       "            '<a target=\"_blank\" href=https://colab.research.google.com/notebooks/data_table.ipynb>data table notebook</a>'\n",
       "            + ' to learn more about interactive tables.';\n",
       "          element.innerHTML = '';\n",
       "          dataTable['output_type'] = 'display_data';\n",
       "          await google.colab.output.renderOutput(dataTable, element);\n",
       "          const docLink = document.createElement('div');\n",
       "          docLink.innerHTML = docLinkHtml;\n",
       "          element.appendChild(docLink);\n",
       "        }\n",
       "      </script>\n",
       "    </div>\n",
       "  </div>\n",
       "  "
      ],
      "text/plain": [
       "genre          Action  Adventure  Animation  Biography  Comedy  Family\n",
       "director                                                              \n",
       "Alex Kurtzman     5.4        NaN        NaN        NaN     NaN     NaN\n",
       "Ang Lee           5.7        NaN        NaN        NaN     NaN     NaN\n",
       "Anna Boden        6.8        NaN        NaN        NaN     NaN     NaN\n",
       "Anthony Russo     8.4        NaN        NaN        NaN     NaN     NaN\n",
       "Ava DuVernay      NaN        4.2        NaN        NaN     NaN     NaN"
      ]
     },
     "execution_count": 43,
     "metadata": {},
     "output_type": "execute_result"
    }
   ],
   "source": [
    "score_df.head()"
   ]
  },
  {
   "cell_type": "code",
   "execution_count": 44,
   "id": "1771a5bc",
   "metadata": {
    "id": "1771a5bc"
   },
   "outputs": [],
   "source": [
    "# replace missing values with zero\n",
    "score_df = score_df.fillna(0)"
   ]
  },
  {
   "cell_type": "markdown",
   "id": "34e60943",
   "metadata": {
    "id": "34e60943"
   },
   "source": [
    "Let's plot heatmap of movie scores."
   ]
  },
  {
   "cell_type": "code",
   "execution_count": 45,
   "id": "b941dafa",
   "metadata": {
    "colab": {
     "base_uri": "https://localhost:8080/",
     "height": 1000
    },
    "id": "b941dafa",
    "outputId": "d818ea32-5465-44be-c5cf-e3c1bd34cc53"
   },
   "outputs": [
    {
     "data": {
      "image/png": "[encoded data removed]",
      "text/plain": [
       "<Figure size 720x1440 with 1 Axes>"
      ]
     },
     "metadata": {
      "needs_background": "light"
     },
     "output_type": "display_data"
    }
   ],
   "source": [
    "# heatmap\n",
    "plt.figure(figsize=(10,20))\n",
    "sns.heatmap(score_df, annot=score_df, cmap=\"YlGn\", cbar=False, linewidths=1)\n",
    "plt.show()"
   ]
  },
  {
   "cell_type": "markdown",
   "id": "5dc1becc",
   "metadata": {
    "id": "5dc1becc"
   },
   "source": [
    "From the chart above, we can find out the higly rated directors in recent years across all the genres."
   ]
  },
  {
   "cell_type": "markdown",
   "id": "275329c0",
   "metadata": {
    "id": "275329c0"
   },
   "source": [
    "###4.3 Gross Collection vs Budget"
   ]
  },
  {
   "cell_type": "code",
   "execution_count": 47,
   "id": "f34e5d2c",
   "metadata": {
    "colab": {
     "base_uri": "https://localhost:8080/",
     "height": 345
    },
    "id": "f34e5d2c",
    "outputId": "4500552c-995d-42b7-f1a8-73d596f8d999"
   },
   "outputs": [
    {
     "data": {
      "image/png": "[encoded data removed]",
      "text/plain": [
       "<Figure size 576x360 with 1 Axes>"
      ]
     },
     "metadata": {
      "needs_background": "light"
     },
     "output_type": "display_data"
    }
   ],
   "source": [
    "plt.figure(figsize=(8,5))\n",
    "sns.scatterplot(data = budget_gross_df, x = 'budget', y = 'gross', \n",
    "                hue = 'genre', palette='Set3')\n",
    "plt.show()"
   ]
  },
  {
   "cell_type": "markdown",
   "id": "1740b4a7",
   "metadata": {
    "id": "1740b4a7"
   },
   "source": [
    "Each data point in the chart above represents a movie, the colors represent the genres and on the axes we have budget and gross collection numbers. We can observe that only action and animation genre movies have been able to achieve record breaking collections even though their budgets are usually on the higher side."
   ]
  },
  {
   "cell_type": "markdown",
   "id": "e055ffa5",
   "metadata": {
    "id": "e055ffa5"
   },
   "source": [
    "###4.4 Return on investment (median) across ratings"
   ]
  },
  {
   "cell_type": "code",
   "execution_count": 48,
   "id": "672872b0",
   "metadata": {
    "colab": {
     "base_uri": "https://localhost:8080/",
     "height": 334
    },
    "id": "672872b0",
    "outputId": "7ea349a7-e026-4768-b5a4-d7f2ca540117"
   },
   "outputs": [
    {
     "data": {
      "image/png": "[encoded data removed]",
      "text/plain": [
       "<Figure size 432x360 with 1 Axes>"
      ]
     },
     "metadata": {
      "needs_background": "light"
     },
     "output_type": "display_data"
    }
   ],
   "source": [
    "plt.figure(figsize=(6,5))\n",
    "\n",
    "ax = sns.boxplot(data = year_gross_df, \n",
    "                 y = \"ROI\", \n",
    "                 x = \"rating\")"
   ]
  },
  {
   "cell_type": "markdown",
   "id": "8b6311de",
   "metadata": {
    "id": "8b6311de"
   },
   "source": [
    "If we see the distribution of movies in terms of their ROI, then movies with PG-13 and PG ratings have a lot more chances of earning more money for the producers."
   ]
  },
  {
   "cell_type": "markdown",
   "id": "NWey_dwxIczP",
   "metadata": {
    "id": "NWey_dwxIczP"
   },
   "source": [
    "###4.5 Top 10 production companies based on ROI"
   ]
  },
  {
   "cell_type": "markdown",
   "id": "BrqA8ds-IhF2",
   "metadata": {
    "id": "BrqA8ds-IhF2"
   },
   "source": [
    "First we will prepare a dataset for the plot. We will aggregate the ROI scores at companies level using the median values."
   ]
  },
  {
   "cell_type": "code",
   "execution_count": 52,
   "id": "R49tSHxJIta4",
   "metadata": {
    "colab": {
     "base_uri": "https://localhost:8080/",
     "height": 363
    },
    "id": "R49tSHxJIta4",
    "outputId": "b02679fa-210e-4e72-aa7c-1b54f147f9d4"
   },
   "outputs": [
    {
     "data": {
      "text/html": [
       "\n",
       "  <div id=\"df-25e8df38-5e94-4b49-8596-4ce8bb317b97\">\n",
       "    <div class=\"colab-df-container\">\n",
       "      <div>\n",
       "<style scoped>\n",
       "    .dataframe tbody tr th:only-of-type {\n",
       "        vertical-align: middle;\n",
       "    }\n",
       "\n",
       "    .dataframe tbody tr th {\n",
       "        vertical-align: top;\n",
       "    }\n",
       "\n",
       "    .dataframe thead th {\n",
       "        text-align: right;\n",
       "    }\n",
       "</style>\n",
       "<table border=\"1\" class=\"dataframe\">\n",
       "  <thead>\n",
       "    <tr style=\"text-align: right;\">\n",
       "      <th></th>\n",
       "      <th>company</th>\n",
       "      <th>ROI</th>\n",
       "    </tr>\n",
       "  </thead>\n",
       "  <tbody>\n",
       "    <tr>\n",
       "      <th>130</th>\n",
       "      <td>FaithStep Films</td>\n",
       "      <td>24.418755</td>\n",
       "    </tr>\n",
       "    <tr>\n",
       "      <th>51</th>\n",
       "      <td>Barunson E&amp;A</td>\n",
       "      <td>22.711233</td>\n",
       "    </tr>\n",
       "    <tr>\n",
       "      <th>63</th>\n",
       "      <td>Blinding Edge Pictures</td>\n",
       "      <td>19.690012</td>\n",
       "    </tr>\n",
       "    <tr>\n",
       "      <th>242</th>\n",
       "      <td>Sailor Bear</td>\n",
       "      <td>19.516830</td>\n",
       "    </tr>\n",
       "    <tr>\n",
       "      <th>85</th>\n",
       "      <td>Carnival Film &amp; Television</td>\n",
       "      <td>18.296927</td>\n",
       "    </tr>\n",
       "    <tr>\n",
       "      <th>0</th>\n",
       "      <td>\"Weathering With You\" Film Partners</td>\n",
       "      <td>17.428601</td>\n",
       "    </tr>\n",
       "    <tr>\n",
       "      <th>37</th>\n",
       "      <td>Atomic Monster</td>\n",
       "      <td>16.615986</td>\n",
       "    </tr>\n",
       "    <tr>\n",
       "      <th>210</th>\n",
       "      <td>Mooz Films</td>\n",
       "      <td>16.104251</td>\n",
       "    </tr>\n",
       "    <tr>\n",
       "      <th>53</th>\n",
       "      <td>Beijing Dengfeng International Culture Communi...</td>\n",
       "      <td>14.583177</td>\n",
       "    </tr>\n",
       "    <tr>\n",
       "      <th>175</th>\n",
       "      <td>Illumination Entertainment</td>\n",
       "      <td>14.301586</td>\n",
       "    </tr>\n",
       "  </tbody>\n",
       "</table>\n",
       "</div>\n",
       "      <button class=\"colab-df-convert\" onclick=\"convertToInteractive('df-25e8df38-5e94-4b49-8596-4ce8bb317b97')\"\n",
       "              title=\"Convert this dataframe to an interactive table.\"\n",
       "              style=\"display:none;\">\n",
       "        \n",
       "  <svg xmlns=\"http://www.w3.org/2000/svg\" height=\"24px\"viewBox=\"0 0 24 24\"\n",
       "       width=\"24px\">\n",
       "    <path d=\"M0 0h24v24H0V0z\" fill=\"none\"/>\n",
       "    <path d=\"M18.56 5.44l.94 2.06.94-2.06 2.06-.94-2.06-.94-.94-2.06-.94 2.06-2.06.94zm-11 1L8.5 8.5l.94-2.06 2.06-.94-2.06-.94L8.5 2.5l-.94 2.06-2.06.94zm10 10l.94 2.06.94-2.06 2.06-.94-2.06-.94-.94-2.06-.94 2.06-2.06.94z\"/><path d=\"M17.41 7.96l-1.37-1.37c-.4-.4-.92-.59-1.43-.59-.52 0-1.04.2-1.43.59L10.3 9.45l-7.72 7.72c-.78.78-.78 2.05 0 2.83L4 21.41c.39.39.9.59 1.41.59.51 0 1.02-.2 1.41-.59l7.78-7.78 2.81-2.81c.8-.78.8-2.07 0-2.86zM5.41 20L4 18.59l7.72-7.72 1.47 1.35L5.41 20z\"/>\n",
       "  </svg>\n",
       "      </button>\n",
       "      \n",
       "  <style>\n",
       "    .colab-df-container {\n",
       "      display:flex;\n",
       "      flex-wrap:wrap;\n",
       "      gap: 12px;\n",
       "    }\n",
       "\n",
       "    .colab-df-convert {\n",
       "      background-color: #E8F0FE;\n",
       "      border: none;\n",
       "      border-radius: 50%;\n",
       "      cursor: pointer;\n",
       "      display: none;\n",
       "      fill: #1967D2;\n",
       "      height: 32px;\n",
       "      padding: 0 0 0 0;\n",
       "      width: 32px;\n",
       "    }\n",
       "\n",
       "    .colab-df-convert:hover {\n",
       "      background-color: #E2EBFA;\n",
       "      box-shadow: 0px 1px 2px rgba(60, 64, 67, 0.3), 0px 1px 3px 1px rgba(60, 64, 67, 0.15);\n",
       "      fill: #174EA6;\n",
       "    }\n",
       "\n",
       "    [theme=dark] .colab-df-convert {\n",
       "      background-color: #3B4455;\n",
       "      fill: #D2E3FC;\n",
       "    }\n",
       "\n",
       "    [theme=dark] .colab-df-convert:hover {\n",
       "      background-color: #434B5C;\n",
       "      box-shadow: 0px 1px 3px 1px rgba(0, 0, 0, 0.15);\n",
       "      filter: drop-shadow(0px 1px 2px rgba(0, 0, 0, 0.3));\n",
       "      fill: #FFFFFF;\n",
       "    }\n",
       "  </style>\n",
       "\n",
       "      <script>\n",
       "        const buttonEl =\n",
       "          document.querySelector('#df-25e8df38-5e94-4b49-8596-4ce8bb317b97 button.colab-df-convert');\n",
       "        buttonEl.style.display =\n",
       "          google.colab.kernel.accessAllowed ? 'block' : 'none';\n",
       "\n",
       "        async function convertToInteractive(key) {\n",
       "          const element = document.querySelector('#df-25e8df38-5e94-4b49-8596-4ce8bb317b97');\n",
       "          const dataTable =\n",
       "            await google.colab.kernel.invokeFunction('convertToInteractive',\n",
       "                                                     [key], {});\n",
       "          if (!dataTable) return;\n",
       "\n",
       "          const docLinkHtml = 'Like what you see? Visit the ' +\n",
       "            '<a target=\"_blank\" href=https://colab.research.google.com/notebooks/data_table.ipynb>data table notebook</a>'\n",
       "            + ' to learn more about interactive tables.';\n",
       "          element.innerHTML = '';\n",
       "          dataTable['output_type'] = 'display_data';\n",
       "          await google.colab.output.renderOutput(dataTable, element);\n",
       "          const docLink = document.createElement('div');\n",
       "          docLink.innerHTML = docLinkHtml;\n",
       "          element.appendChild(docLink);\n",
       "        }\n",
       "      </script>\n",
       "    </div>\n",
       "  </div>\n",
       "  "
      ],
      "text/plain": [
       "                                               company        ROI\n",
       "130                                    FaithStep Films  24.418755\n",
       "51                                        Barunson E&A  22.711233\n",
       "63                              Blinding Edge Pictures  19.690012\n",
       "242                                        Sailor Bear  19.516830\n",
       "85                          Carnival Film & Television  18.296927\n",
       "0                  \"Weathering With You\" Film Partners  17.428601\n",
       "37                                      Atomic Monster  16.615986\n",
       "210                                         Mooz Films  16.104251\n",
       "53   Beijing Dengfeng International Culture Communi...  14.583177\n",
       "175                         Illumination Entertainment  14.301586"
      ]
     },
     "execution_count": 52,
     "metadata": {},
     "output_type": "execute_result"
    }
   ],
   "source": [
    "data = company_df.groupby(['company']).median().reset_index().sort_values('ROI', ascending= False).head(10)\n",
    "data"
   ]
  },
  {
   "cell_type": "code",
   "execution_count": 50,
   "id": "PV29oQL5IxHq",
   "metadata": {
    "colab": {
     "base_uri": "https://localhost:8080/",
     "height": 334
    },
    "id": "PV29oQL5IxHq",
    "outputId": "3bf13713-ce38-499a-d414-724383c7576c"
   },
   "outputs": [
    {
     "data": {
      "image/png": "[encoded data removed]",
      "text/plain": [
       "<Figure size 864x360 with 1 Axes>"
      ]
     },
     "metadata": {
      "needs_background": "light"
     },
     "output_type": "display_data"
    }
   ],
   "source": [
    "plt.figure(figsize = (12,5))\n",
    "sns.barplot(data = data,\n",
    "            y = \"company\", \n",
    "            x = \"ROI\")\n",
    "\n",
    "plt.show()"
   ]
  },
  {
   "cell_type": "markdown",
   "id": "ICn85KsLI3H2",
   "metadata": {
    "id": "ICn85KsLI3H2"
   },
   "source": [
    "The chart above shows the top 10 companies in the last five years based on the median values of return on investment."
   ]
  },
  {
   "cell_type": "markdown",
   "id": "304d0234",
   "metadata": {
    "id": "304d0234"
   },
   "source": [
    "# 5. Summary"
   ]
  },
  {
   "cell_type": "markdown",
   "id": "a1210db3",
   "metadata": {
    "id": "a1210db3"
   },
   "source": [
    "\n",
    "* This data has been collected from 1980 onwards but for analysis we have     considered last 30 years i.e, 1990-2020. \n",
    "\n",
    "\n",
    "*  Some facts from the data exploration: \n",
    "1.   Maximum movies were realeased during 2000-2010. \n",
    "2.   Genres like comedy and horror have huge returns on investment. There is no  action, adventure, animation or sci-fi movie even in the top 20.\n",
    "3. Top 3 most popular genres : comedy, action, and drama.\n",
    "4. Action genre movies seem to get high number of votes followed by animation and sci-fi genres. Comedy and drama genres are not even in the top 10.\n",
    "5. 'Biogrphy' genre: highest imdb rating so far\n",
    "6. Genres like animation, action, adventure and sci-fi: maximum budget(due to high spending on CGI and VFX)\n",
    "7. Chances of high returns (ROI): thriller, sci-fi, and horror.\n",
    "8. 92% movies: released in US, Canada,UK and France\n",
    "9. 7 minutes runtime increase.\n",
    "\n",
    "\n",
    "*  As the patterns and preferences change over the years. Also in last decade there has been a tremendous change in technology and functionality of movie making. So for Deep analysis through subsets and visualization, more recent data has been considered.\n",
    "\n",
    "1. Promising Director showing high ROI is John Watts and for promising production houses- Universal Pictures top the list. \n",
    "2. Action and Animation genres show: record breaking collection though with higher budget and PG-13 and PG rating movies being appreciated the most. \n",
    "3. Decade analysis over last 30 years show significant rise in Return on Investment (ROI). \n"
   ]
  },
  {
   "cell_type": "markdown",
   "id": "928ced7e",
   "metadata": {
    "id": "928ced7e"
   },
   "source": [
    "# 6. Recommendations"
   ]
  },
  {
   "cell_type": "markdown",
   "id": "f491751a",
   "metadata": {
    "id": "f491751a"
   },
   "source": [
    "1. Based on the findings above, it seems that the best bet for a new movie would be to release a sci-fi or horror movie. These genres have a high return on investment, and are also popular with audiences. \n",
    "\n",
    "2. If the budget is too tight then go with the horror movie or else sci-fi is a good option.\n",
    "\n",
    "3. If there is no budget concerns then Action will be the best approach. \n",
    "\n",
    "4. PG-13 and PG rating over other is recommended and movies can be released in US,Canada,UK and France for now and money on release in other nations. \n",
    "\n",
    "5. Promising directors can be Ruben fleiecher and Jay Bayona( for Action Genre) and  Chris Buck(for Animation). Few other recommendations include Anthony Russo, Denis Villenenve and Taika Waititi. \n"
   ]
  },
  {
   "cell_type": "markdown",
   "id": "8f299ed1",
   "metadata": {},
   "source": []
  }
 ],
 "metadata": {
  "colab": {
   "collapsed_sections": [],
   "provenance": []
  },
  "kernelspec": {
   "display_name": "Python 3 (ipykernel)",
   "language": "python",
   "name": "python3"
  },
  "language_info": {
   "codemirror_mode": {
    "name": "ipython",
    "version": 3
   },
   "file_extension": ".py",
   "mimetype": "text/x-python",
   "name": "python",
   "nbconvert_exporter": "python",
   "pygments_lexer": "ipython3",
   "version": "3.9.12"
  }
 },
 "nbformat": 4,
 "nbformat_minor": 5
}
